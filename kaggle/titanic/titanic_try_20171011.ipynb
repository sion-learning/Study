{
 "cells": [
  {
   "cell_type": "code",
   "execution_count": 1,
   "metadata": {
    "collapsed": true
   },
   "outputs": [],
   "source": [
    "#coding: utf-8\n",
    "import numpy as np\n",
    "import pandas as pd\n",
    "\n",
    "train_data = pd.read_csv(\"./train.csv\")\n",
    "train_lavel = pd.read_csv(\"./train.csv\")\n",
    "test_data = pd.read_csv(\"./test.csv\")\n",
    "test_lavel = pd.read_csv(\"./gender_submission.csv\")"
   ]
  },
  {
   "cell_type": "code",
   "execution_count": 2,
   "metadata": {},
   "outputs": [],
   "source": [
    "def name_classifier(name_df):\n",
    "    name_class_df = pd.DataFrame(columns={'Miss','Mrs','Master','Mr'})\n",
    "    \n",
    "    for name in name_df:\n",
    "        if 'Miss' in name:\n",
    "            df = pd.DataFrame([[1,0,0,0]], columns={'Miss','Mrs','Master','Mr'})\n",
    "        elif 'Mrs' in name:\n",
    "            df = pd.DataFrame([[0,1,0,0]], columns={'Miss','Mrs','Master','Mr'})\n",
    "        elif 'Master' in name:\n",
    "            df = pd.DataFrame([[0,0,1,0]], columns={'Miss','Mrs','Master','Mr'})\n",
    "        elif 'Mr' in name:\n",
    "            df = pd.DataFrame([[0,0,0,1]], columns={'Miss','Mrs','Master','Mr'})\n",
    "        else:\n",
    "            df = pd.DataFrame([[0,0,0,0]], columns={'Miss','Mrs','Master','Mr'})\n",
    "        name_class_df = name_class_df.append(df, ignore_index=True)\n",
    "\n",
    "    return name_class_df\n",
    "\n",
    "tn = train_data[\"Name\"]\n",
    "tnc = name_classifier(tn)\n",
    "train_data = pd.concat((train_data, tnc), axis=1)\n",
    "train_data = train_data.drop(['Name'], axis=1)\n",
    "train_data['Age'] = train_data['Age'].interpolate()\n",
    "train_data['Fare'] = train_data['Fare'].interpolate()\n",
    "#print(train_data)\n",
    "\n",
    "sn = test_data[\"Name\"]\n",
    "snc = name_classifier(sn)\n",
    "test_data = pd.concat((test_data, snc), axis=1)\n",
    "test_data = test_data.drop(['Name'], axis=1)\n",
    "test_data['Age'] = test_data['Age'].interpolate()\n",
    "test_data['Fare'] = test_data['Fare'].interpolate()\n",
    "#print(test_data)"
   ]
  },
  {
   "cell_type": "code",
   "execution_count": 3,
   "metadata": {},
   "outputs": [
    {
     "data": {
      "text/html": [
       "<div>\n",
       "<style>\n",
       "    .dataframe thead tr:only-child th {\n",
       "        text-align: right;\n",
       "    }\n",
       "\n",
       "    .dataframe thead th {\n",
       "        text-align: left;\n",
       "    }\n",
       "\n",
       "    .dataframe tbody tr th {\n",
       "        vertical-align: top;\n",
       "    }\n",
       "</style>\n",
       "<table border=\"1\" class=\"dataframe\">\n",
       "  <thead>\n",
       "    <tr style=\"text-align: right;\">\n",
       "      <th></th>\n",
       "      <th>PassengerId</th>\n",
       "      <th>Survived</th>\n",
       "      <th>Age</th>\n",
       "      <th>SibSp</th>\n",
       "      <th>Parch</th>\n",
       "      <th>Ticket</th>\n",
       "      <th>Fare</th>\n",
       "      <th>Cabin</th>\n",
       "      <th>Master</th>\n",
       "      <th>Miss</th>\n",
       "      <th>Mrs</th>\n",
       "      <th>Mr</th>\n",
       "      <th>1</th>\n",
       "      <th>2</th>\n",
       "      <th>3</th>\n",
       "      <th>female</th>\n",
       "      <th>male</th>\n",
       "      <th>C</th>\n",
       "      <th>Q</th>\n",
       "      <th>S</th>\n",
       "    </tr>\n",
       "  </thead>\n",
       "  <tbody>\n",
       "    <tr>\n",
       "      <th>0</th>\n",
       "      <td>1</td>\n",
       "      <td>0</td>\n",
       "      <td>22.0</td>\n",
       "      <td>1</td>\n",
       "      <td>0</td>\n",
       "      <td>A/5 21171</td>\n",
       "      <td>7.2500</td>\n",
       "      <td>NaN</td>\n",
       "      <td>0</td>\n",
       "      <td>0</td>\n",
       "      <td>0</td>\n",
       "      <td>1</td>\n",
       "      <td>0</td>\n",
       "      <td>0</td>\n",
       "      <td>1</td>\n",
       "      <td>0</td>\n",
       "      <td>1</td>\n",
       "      <td>0</td>\n",
       "      <td>0</td>\n",
       "      <td>1</td>\n",
       "    </tr>\n",
       "    <tr>\n",
       "      <th>1</th>\n",
       "      <td>2</td>\n",
       "      <td>1</td>\n",
       "      <td>38.0</td>\n",
       "      <td>1</td>\n",
       "      <td>0</td>\n",
       "      <td>PC 17599</td>\n",
       "      <td>71.2833</td>\n",
       "      <td>C85</td>\n",
       "      <td>0</td>\n",
       "      <td>1</td>\n",
       "      <td>0</td>\n",
       "      <td>0</td>\n",
       "      <td>1</td>\n",
       "      <td>0</td>\n",
       "      <td>0</td>\n",
       "      <td>1</td>\n",
       "      <td>0</td>\n",
       "      <td>1</td>\n",
       "      <td>0</td>\n",
       "      <td>0</td>\n",
       "    </tr>\n",
       "    <tr>\n",
       "      <th>2</th>\n",
       "      <td>3</td>\n",
       "      <td>1</td>\n",
       "      <td>26.0</td>\n",
       "      <td>0</td>\n",
       "      <td>0</td>\n",
       "      <td>STON/O2. 3101282</td>\n",
       "      <td>7.9250</td>\n",
       "      <td>NaN</td>\n",
       "      <td>1</td>\n",
       "      <td>0</td>\n",
       "      <td>0</td>\n",
       "      <td>0</td>\n",
       "      <td>0</td>\n",
       "      <td>0</td>\n",
       "      <td>1</td>\n",
       "      <td>1</td>\n",
       "      <td>0</td>\n",
       "      <td>0</td>\n",
       "      <td>0</td>\n",
       "      <td>1</td>\n",
       "    </tr>\n",
       "  </tbody>\n",
       "</table>\n",
       "</div>"
      ],
      "text/plain": [
       "   PassengerId  Survived   Age  SibSp  Parch            Ticket     Fare Cabin  \\\n",
       "0            1         0  22.0      1      0         A/5 21171   7.2500   NaN   \n",
       "1            2         1  38.0      1      0          PC 17599  71.2833   C85   \n",
       "2            3         1  26.0      0      0  STON/O2. 3101282   7.9250   NaN   \n",
       "\n",
       "  Master Miss Mrs Mr  1  2  3  female  male  C  Q  S  \n",
       "0      0    0   0  1  0  0  1       0     1  0  0  1  \n",
       "1      0    1   0  0  1  0  0       1     0  1  0  0  \n",
       "2      1    0   0  0  0  0  1       1     0  0  0  1  "
      ]
     },
     "execution_count": 3,
     "metadata": {},
     "output_type": "execute_result"
    }
   ],
   "source": [
    "def cols_to_dummies(df):\n",
    "    dummies = []\n",
    "    cols = ['Pclass','Sex','Embarked']\n",
    "    for col in cols:\n",
    "        dummies.append(pd.get_dummies(df[col]))\n",
    "    titanic_dummies = pd.concat(dummies, axis=1)\n",
    "    df = pd.concat((df, titanic_dummies), axis=1)\n",
    "    df = df.drop(cols, axis=1)\n",
    "    return df\n",
    "\n",
    "train_data = cols_to_dummies(train_data)\n",
    "test_data = cols_to_dummies(test_data)\n",
    "\n",
    "train_data.head(3)"
   ]
  },
  {
   "cell_type": "code",
   "execution_count": 4,
   "metadata": {},
   "outputs": [
    {
     "data": {
      "text/html": [
       "<div>\n",
       "<style>\n",
       "    .dataframe thead tr:only-child th {\n",
       "        text-align: right;\n",
       "    }\n",
       "\n",
       "    .dataframe thead th {\n",
       "        text-align: left;\n",
       "    }\n",
       "\n",
       "    .dataframe tbody tr th {\n",
       "        vertical-align: top;\n",
       "    }\n",
       "</style>\n",
       "<table border=\"1\" class=\"dataframe\">\n",
       "  <thead>\n",
       "    <tr style=\"text-align: right;\">\n",
       "      <th></th>\n",
       "      <th>Age</th>\n",
       "      <th>Fare</th>\n",
       "      <th>Master</th>\n",
       "      <th>Miss</th>\n",
       "      <th>Mrs</th>\n",
       "      <th>Mr</th>\n",
       "      <th>1</th>\n",
       "      <th>2</th>\n",
       "      <th>3</th>\n",
       "      <th>female</th>\n",
       "      <th>male</th>\n",
       "      <th>C</th>\n",
       "      <th>Q</th>\n",
       "      <th>S</th>\n",
       "    </tr>\n",
       "  </thead>\n",
       "  <tbody>\n",
       "    <tr>\n",
       "      <th>0</th>\n",
       "      <td>22.0</td>\n",
       "      <td>7.2500</td>\n",
       "      <td>0</td>\n",
       "      <td>0</td>\n",
       "      <td>0</td>\n",
       "      <td>1</td>\n",
       "      <td>0</td>\n",
       "      <td>0</td>\n",
       "      <td>1</td>\n",
       "      <td>0</td>\n",
       "      <td>1</td>\n",
       "      <td>0</td>\n",
       "      <td>0</td>\n",
       "      <td>1</td>\n",
       "    </tr>\n",
       "    <tr>\n",
       "      <th>1</th>\n",
       "      <td>38.0</td>\n",
       "      <td>71.2833</td>\n",
       "      <td>0</td>\n",
       "      <td>1</td>\n",
       "      <td>0</td>\n",
       "      <td>0</td>\n",
       "      <td>1</td>\n",
       "      <td>0</td>\n",
       "      <td>0</td>\n",
       "      <td>1</td>\n",
       "      <td>0</td>\n",
       "      <td>1</td>\n",
       "      <td>0</td>\n",
       "      <td>0</td>\n",
       "    </tr>\n",
       "    <tr>\n",
       "      <th>2</th>\n",
       "      <td>26.0</td>\n",
       "      <td>7.9250</td>\n",
       "      <td>1</td>\n",
       "      <td>0</td>\n",
       "      <td>0</td>\n",
       "      <td>0</td>\n",
       "      <td>0</td>\n",
       "      <td>0</td>\n",
       "      <td>1</td>\n",
       "      <td>1</td>\n",
       "      <td>0</td>\n",
       "      <td>0</td>\n",
       "      <td>0</td>\n",
       "      <td>1</td>\n",
       "    </tr>\n",
       "  </tbody>\n",
       "</table>\n",
       "</div>"
      ],
      "text/plain": [
       "    Age     Fare Master Miss Mrs Mr  1  2  3  female  male  C  Q  S\n",
       "0  22.0   7.2500      0    0   0  1  0  0  1       0     1  0  0  1\n",
       "1  38.0  71.2833      0    1   0  0  1  0  0       1     0  1  0  0\n",
       "2  26.0   7.9250      1    0   0  0  0  0  1       1     0  0  0  1"
      ]
     },
     "execution_count": 4,
     "metadata": {},
     "output_type": "execute_result"
    }
   ],
   "source": [
    "def cabin_to_dummies(df_cabin):\n",
    "    cabin_result = pd.DataFrame(columns={'Cabin'})\n",
    "    \n",
    "    for row in range(0, len(df_cabin)):\n",
    "        df = df_cabin.iloc[row]\n",
    "        if df is None:\n",
    "            df = pd.DataFrame([[0]], columns={'Cabin'})\n",
    "        else:\n",
    "            df = pd.DataFrame([[1]], columns={'Cabin'})\n",
    "        cabin_result = cabin_result.append(df, ignore_index=True)\n",
    "\n",
    "    return cabin_result\n",
    "\n",
    "#trc = train_data['Cabin']\n",
    "#trc_df = cabin_to_dummies(trc)\n",
    "#train_data = pd.concat((train_data, trc_df), axis=1)\n",
    "\n",
    "#tec = test_data['Cabin']\n",
    "#tec_df = cabin_to_dummies(tec)\n",
    "#test_data = pd.concat((test_data, tec_df), axis=1)\n",
    "\n",
    "#train_data.head(3)\n",
    "\n",
    "ids = test_data[\"PassengerId\"].values\n",
    "\n",
    "cols = ['PassengerId','Ticket', 'Cabin', 'SibSp', 'Parch']\n",
    "train_data = train_data.drop(cols, axis=1)\n",
    "test_data = test_data.drop(cols, axis=1)\n",
    "\n",
    "train_data = train_data.drop(['Survived'], axis=1)\n",
    "\n",
    "train_data.head(3)"
   ]
  },
  {
   "cell_type": "code",
   "execution_count": 5,
   "metadata": {
    "scrolled": true
   },
   "outputs": [],
   "source": [
    "train_lavel = train_lavel['Survived'].values\n",
    "#print(train_lavel)\n",
    "\n",
    "test_lavel = test_lavel['Survived'].values\n",
    "#print(test_lavel)\n"
   ]
  },
  {
   "cell_type": "code",
   "execution_count": 6,
   "metadata": {},
   "outputs": [
    {
     "data": {
      "text/plain": [
       "0.99043062200956933"
      ]
     },
     "execution_count": 6,
     "metadata": {},
     "output_type": "execute_result"
    }
   ],
   "source": [
    "from sklearn import ensemble\n",
    "from sklearn.metrics import accuracy_score\n",
    "\n",
    "clf = ensemble.RandomForestClassifier(min_samples_split=230)\n",
    "clf.fit(train_data, train_lavel)\n",
    "clf.score(test_data, test_lavel)"
   ]
  },
  {
   "cell_type": "code",
   "execution_count": 7,
   "metadata": {},
   "outputs": [
    {
     "data": {
      "text/plain": [
       "0.99043062200956933"
      ]
     },
     "execution_count": 7,
     "metadata": {},
     "output_type": "execute_result"
    }
   ],
   "source": [
    "pred = clf.predict(test_data)\n",
    "accuracy_score(np.ravel(test_lavel), pred)"
   ]
  },
  {
   "cell_type": "code",
   "execution_count": 8,
   "metadata": {
    "collapsed": true
   },
   "outputs": [],
   "source": [
    "import csv\n",
    "submit_file = open(\"./titanic_submit_RandomForestClassifier.csv\", \"w\")\n",
    "file_object = csv.writer(submit_file)\n",
    "file_object.writerow([\"PassengerId\", \"Survived\"])\n",
    "file_object.writerows(zip(ids, pred))\n",
    "submit_file.close()"
   ]
  },
  {
   "cell_type": "code",
   "execution_count": 9,
   "metadata": {},
   "outputs": [
    {
     "data": {
      "text/plain": [
       "[<matplotlib.lines.Line2D at 0x15cb85460b8>]"
      ]
     },
     "execution_count": 9,
     "metadata": {},
     "output_type": "execute_result"
    },
    {
     "data": {
      "image/png": "[encoded data removed]",
      "text/plain": [
       "<matplotlib.figure.Figure at 0x15cb72cd898>"
      ]
     },
     "metadata": {},
     "output_type": "display_data"
    }
   ],
   "source": [
    "%matplotlib inline\n",
    "import matplotlib.pyplot as plt\n",
    "\n",
    "accuracy = []\n",
    "i_range = []\n",
    "for i in range(50, 250):\n",
    "    clf = ensemble.RandomForestClassifier(min_samples_split=i)\n",
    "    clf.fit(train_data, train_lavel)\n",
    "    pred = clf.predict(test_data)\n",
    "    acc = accuracy_score(np.ravel(test_lavel), pred)\n",
    "    accuracy.append(acc)\n",
    "    i_range.append(i)\n",
    "\n",
    "#print(accuracy)\n",
    "x = i_range\n",
    "y = accuracy\n",
    "plt.plot(x, y)"
   ]
  },
  {
   "cell_type": "code",
   "execution_count": null,
   "metadata": {
    "collapsed": true
   },
   "outputs": [],
   "source": []
  }
 ],
 "metadata": {
  "kernelspec": {
   "display_name": "Python 3",
   "language": "python",
   "name": "python3"
  },
  "language_info": {
   "codemirror_mode": {
    "name": "ipython",
    "version": 3
   },
   "file_extension": ".py",
   "mimetype": "text/x-python",
   "name": "python",
   "nbconvert_exporter": "python",
   "pygments_lexer": "ipython3",
   "version": "3.6.1"
  }
 },
 "nbformat": 4,
 "nbformat_minor": 2
}
