{
 "cells": [
  {
   "cell_type": "code",
   "execution_count": 1,
   "metadata": {
    "collapsed": true
   },
   "outputs": [],
   "source": [
    "#　11章\n",
    "#　本書での機械学習の定義「データから学習されたモデルの作成および活用」\n",
    "#　↓↓↓\n",
    "#　既存のデータからモデルを作り、別のデータで得られる結果を予測する\n"
   ]
  },
  {
   "cell_type": "code",
   "execution_count": 2,
   "metadata": {
    "collapsed": true
   },
   "outputs": [],
   "source": [
    "def split_data(data,prob):\n",
    "    \"\"\"データを[prob, 1-prob]の割合に分割する\"\"\"\n",
    "    results = [],[]\n",
    "    for row in data:\n",
    "        results[0 if random.random() < prob else 1].append(row)\n",
    "    return results\n",
    "\n",
    "def train_test_split(x,y,test_pct):\n",
    "    data = zip(x,y)\n",
    "    train, test = split_data(data, 1 - test_pct)\n",
    "    x_train, y_train = zip(*train)\n",
    "    x_test, y_test = zip(*test)\n",
    "    return x_train, x_test, y_train, y_test"
   ]
  },
  {
   "cell_type": "code",
   "execution_count": 6,
   "metadata": {},
   "outputs": [
    {
     "name": "stdout",
     "output_type": "stream",
     "text": [
      "0.98114\n",
      "適合率 0.014\n"
     ]
    }
   ],
   "source": [
    "#　　　　　　　　　　　　｜　スパムだった　｜　スパムではなかった\n",
    "#　スパムと判断　　　　　｜　　真陽性　　　｜　　偽陽性\n",
    "#　スパムではないと判断　｜　　偽陰性　　　｜　　真陰性\n",
    "\n",
    "#　　　　　　　｜白血病である｜白血病でない｜　　合計\n",
    "#　ルークである｜tp　　70　　｜fp　　4930　｜　　5000\n",
    "#　ルークでない｜fn 13930　　｜tn　981070　｜　995000\n",
    "#　合計　　　　｜　 14000　　｜　　986000　｜ 1000000\n",
    "\n",
    "def accuracy(tp, fp, fn, tn):\n",
    "    correct = tp + tn\n",
    "    total = tp + fp + fn + tn\n",
    "    return correct / total\n",
    "\n",
    "print(accuracy(70,4930,13930,981070))\n",
    "\n",
    "def precision(tp,fp,fn,tn):\n",
    "    return tp / (tp + fp)\n",
    "\n",
    "print(\"適合率\",precision(70,4930,13930,981070))"
   ]
  },
  {
   "cell_type": "code",
   "execution_count": null,
   "metadata": {
    "collapsed": true
   },
   "outputs": [],
   "source": []
  }
 ],
 "metadata": {
  "kernelspec": {
   "display_name": "Python 3",
   "language": "python",
   "name": "python3"
  },
  "language_info": {
   "codemirror_mode": {
    "name": "ipython",
    "version": 3
   },
   "file_extension": ".py",
   "mimetype": "text/x-python",
   "name": "python",
   "nbconvert_exporter": "python",
   "pygments_lexer": "ipython3",
   "version": "3.6.1"
  }
 },
 "nbformat": 4,
 "nbformat_minor": 2
}
