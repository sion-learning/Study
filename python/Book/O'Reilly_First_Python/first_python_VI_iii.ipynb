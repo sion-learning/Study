{
 "cells": [
  {
   "cell_type": "code",
   "execution_count": 4,
   "metadata": {
    "collapsed": true
   },
   "outputs": [],
   "source": [
    "class Commuter:\n",
    "    def __init__(self, val):\n",
    "        self.val = val\n",
    "    def __add__(self, other):\n",
    "        print('add', self.val, other)\n",
    "    def __radd__(self, other):\n",
    "        print('radd', self.val, other)"
   ]
  },
  {
   "cell_type": "code",
   "execution_count": 5,
   "metadata": {},
   "outputs": [
    {
     "name": "stdout",
     "output_type": "stream",
     "text": [
      "add 88 1\n"
     ]
    }
   ],
   "source": [
    "x = Commuter(88)\n",
    "y = Commuter(99)\n",
    "x + 1"
   ]
  },
  {
   "cell_type": "code",
   "execution_count": 6,
   "metadata": {},
   "outputs": [
    {
     "name": "stdout",
     "output_type": "stream",
     "text": [
      "radd 99 1\n"
     ]
    }
   ],
   "source": [
    "1 + y"
   ]
  },
  {
   "cell_type": "code",
   "execution_count": 7,
   "metadata": {},
   "outputs": [
    {
     "name": "stdout",
     "output_type": "stream",
     "text": [
      "add 88 <__main__.Commuter object at 0x000002671A645EB8>\n"
     ]
    }
   ],
   "source": [
    "x + y"
   ]
  },
  {
   "cell_type": "code",
   "execution_count": 8,
   "metadata": {
    "collapsed": true
   },
   "outputs": [],
   "source": [
    "class Prod:\n",
    "    def __init__(self, value):\n",
    "        self.value = value\n",
    "    def __call__(self, other):\n",
    "        return self.value * other"
   ]
  },
  {
   "cell_type": "code",
   "execution_count": 9,
   "metadata": {},
   "outputs": [
    {
     "data": {
      "text/plain": [
       "6"
      ]
     },
     "execution_count": 9,
     "metadata": {},
     "output_type": "execute_result"
    }
   ],
   "source": [
    "x = Prod(2)\n",
    "x(3)"
   ]
  },
  {
   "cell_type": "code",
   "execution_count": 10,
   "metadata": {
    "collapsed": true
   },
   "outputs": [],
   "source": [
    "class Life:\n",
    "    def __init__(self, name='unknown'):\n",
    "        print('hello', name)\n",
    "        self.name = name\n",
    "    def __del__(self):\n",
    "        print('goodbye', self.name)"
   ]
  },
  {
   "cell_type": "code",
   "execution_count": 11,
   "metadata": {},
   "outputs": [
    {
     "name": "stdout",
     "output_type": "stream",
     "text": [
      "hello Brian\n"
     ]
    }
   ],
   "source": [
    "brian = Life('Brian')"
   ]
  },
  {
   "cell_type": "code",
   "execution_count": 12,
   "metadata": {},
   "outputs": [
    {
     "name": "stdout",
     "output_type": "stream",
     "text": [
      "goodbye Brian\n"
     ]
    }
   ],
   "source": [
    "brian = 'loretta'"
   ]
  },
  {
   "cell_type": "code",
   "execution_count": 13,
   "metadata": {
    "collapsed": true
   },
   "outputs": [],
   "source": [
    "# manynames\n",
    "\n",
    "X = 11\n",
    "\n",
    "def f():\n",
    "    print(X)\n",
    "\n",
    "def g():\n",
    "    X = 22\n",
    "    print(X)\n",
    "    \n",
    "class C:\n",
    "    X = 33\n",
    "    def m(self):\n",
    "        X = 44\n",
    "        self.X = 55"
   ]
  },
  {
   "cell_type": "code",
   "execution_count": 15,
   "metadata": {},
   "outputs": [
    {
     "name": "stdout",
     "output_type": "stream",
     "text": [
      "11\n",
      "11\n",
      "22\n",
      "11\n",
      "33\n",
      "55\n",
      "33\n"
     ]
    },
    {
     "ename": "NameError",
     "evalue": "name 'c' is not defined",
     "output_type": "error",
     "traceback": [
      "\u001b[1;31m---------------------------------------------------------------------------\u001b[0m",
      "\u001b[1;31mNameError\u001b[0m                                 Traceback (most recent call last)",
      "\u001b[1;32m<ipython-input-15-9ffff2374570>\u001b[0m in \u001b[0;36m<module>\u001b[1;34m()\u001b[0m\n\u001b[0;32m     12\u001b[0m     \u001b[0mprint\u001b[0m\u001b[1;33m(\u001b[0m\u001b[0mC\u001b[0m\u001b[1;33m.\u001b[0m\u001b[0mX\u001b[0m\u001b[1;33m)\u001b[0m\u001b[1;33m\u001b[0m\u001b[0m\n\u001b[0;32m     13\u001b[0m \u001b[1;33m\u001b[0m\u001b[0m\n\u001b[1;32m---> 14\u001b[1;33m     \u001b[0mprint\u001b[0m\u001b[1;33m(\u001b[0m\u001b[0mc\u001b[0m\u001b[1;33m.\u001b[0m\u001b[0mm\u001b[0m\u001b[1;33m.\u001b[0m\u001b[0mX\u001b[0m\u001b[1;33m)\u001b[0m\u001b[1;33m\u001b[0m\u001b[0m\n\u001b[0m\u001b[0;32m     15\u001b[0m     \u001b[0mprint\u001b[0m\u001b[1;33m(\u001b[0m\u001b[0mf\u001b[0m\u001b[1;33m.\u001b[0m\u001b[0mX\u001b[0m\u001b[1;33m)\u001b[0m\u001b[1;33m\u001b[0m\u001b[0m\n",
      "\u001b[1;31mNameError\u001b[0m: name 'c' is not defined"
     ]
    }
   ],
   "source": [
    "if __name__ == '__main__':\n",
    "    print(X)\n",
    "    f()\n",
    "    g()\n",
    "    print(X)\n",
    "    \n",
    "    obj = C()\n",
    "    print(obj.X)\n",
    "    \n",
    "    obj.m()\n",
    "    print(obj.X)\n",
    "    print(C.X)\n",
    "    \n",
    "    print(c.m.X)\n",
    "    print(f.X)"
   ]
  },
  {
   "cell_type": "code",
   "execution_count": 16,
   "metadata": {
    "collapsed": true
   },
   "outputs": [],
   "source": [
    "class super:\n",
    "    def hello(self):\n",
    "        self.data1 = 'spam'\n",
    "        \n",
    "class sub(super):\n",
    "    def hola(self):\n",
    "        self.data2 = 'eggs'"
   ]
  },
  {
   "cell_type": "code",
   "execution_count": 17,
   "metadata": {},
   "outputs": [
    {
     "data": {
      "text/plain": [
       "{}"
      ]
     },
     "execution_count": 17,
     "metadata": {},
     "output_type": "execute_result"
    }
   ],
   "source": [
    "X = sub()\n",
    "X.__dict__"
   ]
  },
  {
   "cell_type": "code",
   "execution_count": 18,
   "metadata": {},
   "outputs": [
    {
     "data": {
      "text/plain": [
       "__main__.sub"
      ]
     },
     "execution_count": 18,
     "metadata": {},
     "output_type": "execute_result"
    }
   ],
   "source": [
    "X.__class__"
   ]
  },
  {
   "cell_type": "code",
   "execution_count": 19,
   "metadata": {},
   "outputs": [
    {
     "data": {
      "text/plain": [
       "(__main__.super,)"
      ]
     },
     "execution_count": 19,
     "metadata": {},
     "output_type": "execute_result"
    }
   ],
   "source": [
    "sub.__bases__"
   ]
  },
  {
   "cell_type": "code",
   "execution_count": 20,
   "metadata": {},
   "outputs": [
    {
     "data": {
      "text/plain": [
       "(object,)"
      ]
     },
     "execution_count": 20,
     "metadata": {},
     "output_type": "execute_result"
    }
   ],
   "source": [
    "super.__bases__"
   ]
  },
  {
   "cell_type": "code",
   "execution_count": 21,
   "metadata": {},
   "outputs": [
    {
     "data": {
      "text/plain": [
       "{'data1': 'spam'}"
      ]
     },
     "execution_count": 21,
     "metadata": {},
     "output_type": "execute_result"
    }
   ],
   "source": [
    "Y = sub()\n",
    "X.hello()\n",
    "X.__dict__"
   ]
  },
  {
   "cell_type": "code",
   "execution_count": 22,
   "metadata": {},
   "outputs": [
    {
     "data": {
      "text/plain": [
       "{'data1': 'spam', 'data2': 'eggs'}"
      ]
     },
     "execution_count": 22,
     "metadata": {},
     "output_type": "execute_result"
    }
   ],
   "source": [
    "X.hola()\n",
    "X.__dict__"
   ]
  },
  {
   "cell_type": "code",
   "execution_count": 23,
   "metadata": {},
   "outputs": [
    {
     "data": {
      "text/plain": [
       "mappingproxy({'__doc__': None,\n",
       "              '__module__': '__main__',\n",
       "              'hola': <function __main__.sub.hola>})"
      ]
     },
     "execution_count": 23,
     "metadata": {},
     "output_type": "execute_result"
    }
   ],
   "source": [
    "sub.__dict__"
   ]
  },
  {
   "cell_type": "code",
   "execution_count": 24,
   "metadata": {},
   "outputs": [
    {
     "data": {
      "text/plain": [
       "mappingproxy({'__dict__': <attribute '__dict__' of 'super' objects>,\n",
       "              '__doc__': None,\n",
       "              '__module__': '__main__',\n",
       "              '__weakref__': <attribute '__weakref__' of 'super' objects>,\n",
       "              'hello': <function __main__.super.hello>})"
      ]
     },
     "execution_count": 24,
     "metadata": {},
     "output_type": "execute_result"
    }
   ],
   "source": [
    "super.__dict__"
   ]
  },
  {
   "cell_type": "code",
   "execution_count": 25,
   "metadata": {},
   "outputs": [
    {
     "data": {
      "text/plain": [
       "(dict_keys(['__module__', 'hola', '__doc__']),\n",
       " dict_keys(['__module__', 'hello', '__dict__', '__weakref__', '__doc__']))"
      ]
     },
     "execution_count": 25,
     "metadata": {},
     "output_type": "execute_result"
    }
   ],
   "source": [
    "sub.__dict__.keys(), super.__dict__.keys()"
   ]
  },
  {
   "cell_type": "code",
   "execution_count": 26,
   "metadata": {},
   "outputs": [
    {
     "data": {
      "text/plain": [
       "{}"
      ]
     },
     "execution_count": 26,
     "metadata": {},
     "output_type": "execute_result"
    }
   ],
   "source": [
    "Y.__dict__"
   ]
  },
  {
   "cell_type": "code",
   "execution_count": 27,
   "metadata": {},
   "outputs": [
    {
     "data": {
      "text/plain": [
       "('spam', 'spam')"
      ]
     },
     "execution_count": 27,
     "metadata": {},
     "output_type": "execute_result"
    }
   ],
   "source": [
    "X.data1, X.__dict__['data1']"
   ]
  },
  {
   "cell_type": "code",
   "execution_count": 28,
   "metadata": {},
   "outputs": [
    {
     "data": {
      "text/plain": [
       "{'data1': 'spam', 'data2': 'eggs', 'data3': 'toast'}"
      ]
     },
     "execution_count": 28,
     "metadata": {},
     "output_type": "execute_result"
    }
   ],
   "source": [
    "X.data3 = 'toast'\n",
    "X.__dict__"
   ]
  },
  {
   "cell_type": "code",
   "execution_count": 29,
   "metadata": {},
   "outputs": [
    {
     "data": {
      "text/plain": [
       "'ham'"
      ]
     },
     "execution_count": 29,
     "metadata": {},
     "output_type": "execute_result"
    }
   ],
   "source": [
    "X.__dict__['data3'] = 'ham'\n",
    "X.data3"
   ]
  },
  {
   "cell_type": "code",
   "execution_count": 30,
   "metadata": {},
   "outputs": [
    {
     "data": {
      "text/plain": [
       "{'data1': 'spam', 'data2': 'eggs', 'data3': 'ham'}"
      ]
     },
     "execution_count": 30,
     "metadata": {},
     "output_type": "execute_result"
    }
   ],
   "source": [
    "X.__dict__"
   ]
  },
  {
   "cell_type": "code",
   "execution_count": 31,
   "metadata": {},
   "outputs": [
    {
     "data": {
      "text/plain": [
       "dict_keys(['data1', 'data2', 'data3'])"
      ]
     },
     "execution_count": 31,
     "metadata": {},
     "output_type": "execute_result"
    }
   ],
   "source": [
    "X.__dict__.keys()"
   ]
  },
  {
   "cell_type": "code",
   "execution_count": 32,
   "metadata": {},
   "outputs": [
    {
     "data": {
      "text/plain": [
       "['__class__',\n",
       " '__delattr__',\n",
       " '__dict__',\n",
       " '__dir__',\n",
       " '__doc__',\n",
       " '__eq__',\n",
       " '__format__',\n",
       " '__ge__',\n",
       " '__getattribute__',\n",
       " '__gt__',\n",
       " '__hash__',\n",
       " '__init__',\n",
       " '__init_subclass__',\n",
       " '__le__',\n",
       " '__lt__',\n",
       " '__module__',\n",
       " '__ne__',\n",
       " '__new__',\n",
       " '__reduce__',\n",
       " '__reduce_ex__',\n",
       " '__repr__',\n",
       " '__setattr__',\n",
       " '__sizeof__',\n",
       " '__str__',\n",
       " '__subclasshook__',\n",
       " '__weakref__',\n",
       " 'data1',\n",
       " 'data2',\n",
       " 'data3',\n",
       " 'hello',\n",
       " 'hola']"
      ]
     },
     "execution_count": 32,
     "metadata": {},
     "output_type": "execute_result"
    }
   ],
   "source": [
    "dir(X)"
   ]
  },
  {
   "cell_type": "code",
   "execution_count": 33,
   "metadata": {},
   "outputs": [
    {
     "data": {
      "text/plain": [
       "['__class__',\n",
       " '__delattr__',\n",
       " '__dict__',\n",
       " '__dir__',\n",
       " '__doc__',\n",
       " '__eq__',\n",
       " '__format__',\n",
       " '__ge__',\n",
       " '__getattribute__',\n",
       " '__gt__',\n",
       " '__hash__',\n",
       " '__init__',\n",
       " '__init_subclass__',\n",
       " '__le__',\n",
       " '__lt__',\n",
       " '__module__',\n",
       " '__ne__',\n",
       " '__new__',\n",
       " '__reduce__',\n",
       " '__reduce_ex__',\n",
       " '__repr__',\n",
       " '__setattr__',\n",
       " '__sizeof__',\n",
       " '__str__',\n",
       " '__subclasshook__',\n",
       " '__weakref__',\n",
       " 'hello',\n",
       " 'hola']"
      ]
     },
     "execution_count": 33,
     "metadata": {},
     "output_type": "execute_result"
    }
   ],
   "source": [
    "dir(sub)"
   ]
  },
  {
   "cell_type": "code",
   "execution_count": 34,
   "metadata": {},
   "outputs": [
    {
     "data": {
      "text/plain": [
       "['__class__',\n",
       " '__delattr__',\n",
       " '__dict__',\n",
       " '__dir__',\n",
       " '__doc__',\n",
       " '__eq__',\n",
       " '__format__',\n",
       " '__ge__',\n",
       " '__getattribute__',\n",
       " '__gt__',\n",
       " '__hash__',\n",
       " '__init__',\n",
       " '__init_subclass__',\n",
       " '__le__',\n",
       " '__lt__',\n",
       " '__module__',\n",
       " '__ne__',\n",
       " '__new__',\n",
       " '__reduce__',\n",
       " '__reduce_ex__',\n",
       " '__repr__',\n",
       " '__setattr__',\n",
       " '__sizeof__',\n",
       " '__str__',\n",
       " '__subclasshook__',\n",
       " '__weakref__',\n",
       " 'hello']"
      ]
     },
     "execution_count": 34,
     "metadata": {},
     "output_type": "execute_result"
    }
   ],
   "source": [
    "dir(super)"
   ]
  },
  {
   "cell_type": "code",
   "execution_count": 3,
   "metadata": {},
   "outputs": [
    {
     "name": "stdout",
     "output_type": "stream",
     "text": [
      "Tree of <__main__.selftest.<locals>.B object at 0x0000016F559E0CF8>\n",
      "... B\n",
      "...... A\n",
      "......... object\n",
      "Tree of <__main__.selftest.<locals>.F object at 0x0000016F559E0CF8>\n",
      "... F\n",
      "...... D\n",
      "......... B\n",
      "............ A\n",
      "............... object\n",
      "......... C\n",
      "............ A\n",
      "............... object\n",
      "...... E\n",
      "......... object\n"
     ]
    }
   ],
   "source": [
    "# classtree\n",
    "\n",
    "def classtree(cls, indent):\n",
    "    print('.'*indent, cls.__name__)\n",
    "    for supercls in cls.__bases__:\n",
    "        classtree(supercls, indent+3)\n",
    "\n",
    "def instancetree(inst):\n",
    "    print('Tree of', inst)\n",
    "    classtree(inst.__class__, 3)\n",
    "    \n",
    "def selftest():\n",
    "    class A:\n",
    "        pass\n",
    "    class B(A):\n",
    "        pass\n",
    "    class C(A):\n",
    "        pass\n",
    "    class D(B, C):\n",
    "        pass\n",
    "    class E:\n",
    "        pass\n",
    "    class F(D, E):\n",
    "        pass\n",
    "    instancetree(B())\n",
    "    instancetree(F())\n",
    "\n",
    "if __name__ == '__main__': selftest()"
   ]
  },
  {
   "cell_type": "code",
   "execution_count": 5,
   "metadata": {},
   "outputs": [
    {
     "name": "stdout",
     "output_type": "stream",
     "text": [
      "<Person: \n",
      "\tname=Bob Smith\n",
      "\tage=40\n",
      ">\n",
      "Smith\n",
      "<Person: \n",
      "\tname=Bob Smith\n",
      "\tage=41\n",
      ">\n",
      "<Employee: \n",
      "\tname=Sue Jones\n",
      "\tage=44\n",
      "\tjob=dev\n",
      "\tpay=100000\n",
      ">\n",
      "Jones\n",
      "<Employee: \n",
      "\tname=Sue Jones\n",
      "\tage=46\n",
      "\tjob=dev\n",
      "\tpay=110000.00000000001\n",
      ">\n"
     ]
    }
   ],
   "source": [
    "# person\n",
    "\n",
    "class GenericDisplay:\n",
    "    def gatherAttrs(self):\n",
    "        attrs = '\\n'\n",
    "        for key in self.__dict__:\n",
    "            attrs += '\\t%s=%s\\n' % (key, self.__dict__[key])\n",
    "        return attrs\n",
    "    def __str__(self):\n",
    "        return '<%s: %s>' % (self.__class__.__name__, self.gatherAttrs())\n",
    "    \n",
    "class Person(GenericDisplay):\n",
    "    def __init__(self, name, age):\n",
    "        self.name = name\n",
    "        self.age = age\n",
    "    def lastName(self):\n",
    "        return self.name.split()[-1]\n",
    "    def birthDay(self):\n",
    "        self.age += 1\n",
    "    \n",
    "class Employee(Person):\n",
    "    def __init__(self, name, age, job=None, pay=0):\n",
    "        Person.__init__(self, name, age)\n",
    "        self.job = job\n",
    "        self.pay = pay\n",
    "    def birthDay(self):\n",
    "        self.age += 2\n",
    "    def giveRaise(self, percent):\n",
    "        self.pay *= (1.0 + percent)\n",
    "\n",
    "if __name__ == '__main__':\n",
    "    bob = Person('Bob Smith', 40)\n",
    "    print(bob)\n",
    "    print(bob.lastName())\n",
    "    bob.birthDay()\n",
    "    print(bob)\n",
    "    \n",
    "    sue = Employee('Sue Jones', 44, job='dev', pay=100000)\n",
    "    print(sue)\n",
    "    print(sue.lastName())\n",
    "    sue.birthDay()\n",
    "    sue.giveRaise(.10)\n",
    "    print(sue)"
   ]
  },
  {
   "cell_type": "code",
   "execution_count": 10,
   "metadata": {},
   "outputs": [
    {
     "data": {
      "text/plain": [
       "'Smith'"
      ]
     },
     "execution_count": 10,
     "metadata": {},
     "output_type": "execute_result"
    }
   ],
   "source": [
    "ann = Person('Ann Smith', 45)\n",
    "ann.lastName()"
   ]
  },
  {
   "cell_type": "code",
   "execution_count": 11,
   "metadata": {},
   "outputs": [
    {
     "data": {
      "text/plain": [
       "46"
      ]
     },
     "execution_count": 11,
     "metadata": {},
     "output_type": "execute_result"
    }
   ],
   "source": [
    "ann.birthDay()\n",
    "ann.age"
   ]
  },
  {
   "cell_type": "code",
   "execution_count": 12,
   "metadata": {},
   "outputs": [
    {
     "name": "stdout",
     "output_type": "stream",
     "text": [
      "<Person: \n",
      "\tname=Ann Smith\n",
      "\tage=46\n",
      ">\n"
     ]
    }
   ],
   "source": [
    "print(ann)"
   ]
  },
  {
   "cell_type": "code",
   "execution_count": 7,
   "metadata": {},
   "outputs": [
    {
     "name": "stdout",
     "output_type": "stream",
     "text": [
      "<Employee: name=bob, salary=50000>\n",
      "bob makes pizza\n",
      "<Employee: name=bob, salary=60000.0>\n",
      "Employee does stuff\n",
      "Chef makes food\n",
      "Server interfaces with customer\n",
      "PizzaRobot makes pizza\n"
     ]
    }
   ],
   "source": [
    "# IS-A : PizzaRobot\n",
    "\n",
    "class Employee:\n",
    "    def __init__(self, name, salary=0):\n",
    "        self.name = name\n",
    "        self.salary = salary\n",
    "    def giveRaise(self, percent):\n",
    "        self.salary = self.salary + (self.salary * percent)\n",
    "    def work(self):\n",
    "        print(self.name, \"does stuff\")\n",
    "    def __repr__(self):\n",
    "        return \"<Employee: name=%s, salary=%s>\" % (self.name, self.salary)\n",
    "\n",
    "class Chef(Employee):\n",
    "    def __init__(self, name):\n",
    "        Employee.__init__(self, name, 50000)\n",
    "    def work(self):\n",
    "        print(self.name, \"makes food\")\n",
    "\n",
    "class Server(Employee):\n",
    "    def __init__(self, name):\n",
    "        Employee.__init__(self, name, 40000)\n",
    "    def work(self):\n",
    "        print(self.name, \"interfaces with customer\")\n",
    "        \n",
    "class PizzaRobot(Chef):\n",
    "    def __init__(self, name):\n",
    "        Chef.__init__(self, name)\n",
    "    def work(self):\n",
    "        print(self.name, \"makes pizza\")\n",
    "        \n",
    "if __name__ == \"__main__\":\n",
    "    bob = PizzaRobot('bob')\n",
    "    print(bob)\n",
    "    bob.work()\n",
    "    bob.giveRaise(0.20)\n",
    "    print(bob)\n",
    "    for klass in Employee, Chef, Server, PizzaRobot:\n",
    "        obj = klass(klass.__name__)\n",
    "        obj.work()\n"
   ]
  },
  {
   "cell_type": "code",
   "execution_count": 9,
   "metadata": {},
   "outputs": [
    {
     "name": "stdout",
     "output_type": "stream",
     "text": [
      "Homer orders from <Employee: name=Pat, salary=40000>\n",
      "Bob makes pizza\n",
      "oven bakes\n",
      "Homer pays for item to <Employee: name=Pat, salary=40000>\n",
      "...\n",
      "Shaggy orders from <Employee: name=Pat, salary=40000>\n",
      "Bob makes pizza\n",
      "oven bakes\n",
      "Shaggy pays for item to <Employee: name=Pat, salary=40000>\n"
     ]
    }
   ],
   "source": [
    "# HAS-A \n",
    "\n",
    "class Customer:\n",
    "    def __init__(self, name):\n",
    "        self.name = name\n",
    "    def order(self, server):\n",
    "        print(self.name, \"orders from\", server)\n",
    "    def pay(self, server):\n",
    "        print(self.name, \"pays for item to\", server)\n",
    "        \n",
    "class Oven:\n",
    "    def bake(self):\n",
    "        print(\"oven bakes\")\n",
    "\n",
    "class PizzaShop:\n",
    "    def __init__(self):\n",
    "        self.server = Server('Pat')\n",
    "        self.chef = PizzaRobot('Bob')\n",
    "        self.oven = Oven()\n",
    "        \n",
    "    def order(self, name):\n",
    "        customer = Customer(name)\n",
    "        customer.order(self.server)\n",
    "        self.chef.work()\n",
    "        self.oven.bake()\n",
    "        customer.pay(self.server)\n",
    "        \n",
    "if __name__ == \"__main__\":\n",
    "    scene = PizzaShop()\n",
    "    scene.order('Homer')\n",
    "    print(\"...\")\n",
    "    scene.order('Shaggy')"
   ]
  },
  {
   "cell_type": "code",
   "execution_count": 10,
   "metadata": {},
   "outputs": [
    {
     "name": "stdout",
     "output_type": "stream",
     "text": [
      "Trace: append\n"
     ]
    }
   ],
   "source": [
    "# delegation\n",
    "\n",
    "class wrapper:\n",
    "    def __init__(self, object):\n",
    "        self.wrapped = object\n",
    "    def __getattr__(self, attrname):\n",
    "        print('Trace:', attrname)\n",
    "        return getattr(self.wrapped, attrname)\n",
    "\n",
    "x = wrapper([1,2,3])\n",
    "x.append(4)"
   ]
  },
  {
   "cell_type": "code",
   "execution_count": 11,
   "metadata": {},
   "outputs": [
    {
     "data": {
      "text/plain": [
       "[1, 2, 3, 4]"
      ]
     },
     "execution_count": 11,
     "metadata": {},
     "output_type": "execute_result"
    }
   ],
   "source": [
    "x.wrapped"
   ]
  },
  {
   "cell_type": "code",
   "execution_count": 1,
   "metadata": {},
   "outputs": [
    {
     "name": "stdout",
     "output_type": "stream",
     "text": [
      "<__main__.Spam object at 0x000001C70F7FF908>\n"
     ]
    }
   ],
   "source": [
    "# multiple inheritance\n",
    "\n",
    "class Spam:\n",
    "    def __init__(self):\n",
    "        self.data1 = \"food\"\n",
    "        \n",
    "X = Spam()\n",
    "print(X)\n",
    "\n",
    "# 上手くprintされてくれない"
   ]
  },
  {
   "cell_type": "code",
   "execution_count": 6,
   "metadata": {},
   "outputs": [
    {
     "data": {
      "text/plain": [
       "<Instance of Spam, address 1954470434128:\n",
       "\tname data1=<built-in>\n",
       ">"
      ]
     },
     "execution_count": 6,
     "metadata": {},
     "output_type": "execute_result"
    }
   ],
   "source": [
    "# mixinを使おう\n",
    "\n",
    "class Lister:\n",
    "    def __repr__(self):\n",
    "        return (\"<Instance of %s, address %s:\\n%s>\" % (self.__class__.__name__, id(self), self.attrnames()) )\n",
    "    def attrnames(self):\n",
    "        result = ''\n",
    "        for attr in self.__dict__.keys():\n",
    "            if attr in self.__dict__.keys():\n",
    "                result = result + \"\\tname %s=<built-in>\\n\" % attr\n",
    "            else: result = result + \"\\tname %s=%s\\n\" % (attr, self.__dict__ [attr])\n",
    "        return result\n",
    "    \n",
    "class Spam(Lister):\n",
    "    def __init__(self):\n",
    "        self.data1 = 'food'\n",
    "    \n",
    "x = Spam()\n",
    "x"
   ]
  },
  {
   "cell_type": "code",
   "execution_count": 7,
   "metadata": {},
   "outputs": [
    {
     "name": "stdout",
     "output_type": "stream",
     "text": [
      "<Instance of Sub, address 1954470446024:\n",
      "\tname data2=<built-in>\n",
      "\tname data3=<built-in>\n",
      ">\n"
     ]
    }
   ],
   "source": [
    "class Super:\n",
    "    def _init__(self):\n",
    "        self.data1 = \"spam\"\n",
    "        \n",
    "class Sub(Super, Lister):\n",
    "    def __init__(self):\n",
    "        Super.__init__(self)\n",
    "        self.data2 = \"eggs\"\n",
    "        self.data3 = 42\n",
    "        \n",
    "if __name__ == '__main__':\n",
    "    x = Sub()\n",
    "    print(x)"
   ]
  },
  {
   "cell_type": "code",
   "execution_count": null,
   "metadata": {
    "collapsed": true
   },
   "outputs": [],
   "source": []
  }
 ],
 "metadata": {
  "kernelspec": {
   "display_name": "Python 3",
   "language": "python",
   "name": "python3"
  },
  "language_info": {
   "codemirror_mode": {
    "name": "ipython",
    "version": 3
   },
   "file_extension": ".py",
   "mimetype": "text/x-python",
   "name": "python",
   "nbconvert_exporter": "python",
   "pygments_lexer": "ipython3",
   "version": "3.6.1"
  }
 },
 "nbformat": 4,
 "nbformat_minor": 2
}
