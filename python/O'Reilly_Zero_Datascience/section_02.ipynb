{
 "cells": [
  {
   "cell_type": "code",
   "execution_count": 4,
   "metadata": {},
   "outputs": [
    {
     "name": "stdout",
     "output_type": "stream",
     "text": [
      "{'I': 1, ' ': 2, 'a': 3, 'm': 1, 'J': 1, 'p': 1, 'n': 1, 'e': 2, 's': 1, '.': 1}\n",
      "{'I': 1, ' ': 2, 'a': 3, 'm': 1, 'J': 1, 'p': 1, 'n': 1, 'e': 2, 's': 1, '.': 1}\n",
      "{'I': 1, ' ': 2, 'a': 3, 'm': 1, 'J': 1, 'p': 1, 'n': 1, 'e': 2, 's': 1, '.': 1}\n",
      "defaultdict(<class 'int'>, {'I': 1, ' ': 2, 'a': 3, 'm': 1, 'J': 1, 'p': 1, 'n': 1, 'e': 2, 's': 1, '.': 1})\n"
     ]
    }
   ],
   "source": [
    "\n",
    "document = \"I am Japanese.\"\n",
    "\n",
    "# not use defaultdict exapmle\n",
    "\n",
    "# ex1\n",
    "word_counts = {}\n",
    "for word in document:\n",
    "    if word in word_counts:\n",
    "        word_counts[word] += 1\n",
    "    else:\n",
    "        word_counts[word] = 1\n",
    "print(word_counts)\n",
    "\n",
    "# ex2\n",
    "word_counts = {}\n",
    "for word in document:\n",
    "    try:\n",
    "        word_counts[word] += 1\n",
    "    except KeyError:\n",
    "        word_counts[word] = 1\n",
    "print(word_counts)\n",
    "\n",
    "# ex3\n",
    "word_counts = {}\n",
    "for word in document:\n",
    "    previous_count = word_counts.get(word, 0)\n",
    "    word_counts[word] = previous_count + 1\n",
    "print(word_counts)"
   ]
  },
  {
   "cell_type": "code",
   "execution_count": 6,
   "metadata": {},
   "outputs": [
    {
     "name": "stdout",
     "output_type": "stream",
     "text": [
      "defaultdict(<class 'int'>, {'I': 1, ' ': 2, 'a': 3, 'm': 1, 'J': 1, 'p': 1, 'n': 1, 'e': 2, 's': 1, '.': 1})\n",
      "defaultdict(<class 'list'>, {2: [1]})\n",
      "defaultdict(<class 'dict'>, {'Joel': {'City': 'Seattle'}})\n",
      "defaultdict(<function <lambda> at 0x000002171725E048>, {2: [0, 1]})\n"
     ]
    }
   ],
   "source": [
    "# use defaultdict\n",
    "from collections import defaultdict\n",
    "\n",
    "word_counts = defaultdict(int)\n",
    "for word in document:\n",
    "    word_counts[word] += 1\n",
    "print(word_counts)\n",
    "\n",
    "# 2\n",
    "dd_list = defaultdict(list)\n",
    "dd_list[2].append(1)\n",
    "print(dd_list)\n",
    "\n",
    "# 3\n",
    "dd_dict = defaultdict(dict)\n",
    "dd_dict[\"Joel\"][\"City\"] = \"Seattle\"\n",
    "print(dd_dict)\n",
    "\n",
    "# 4\n",
    "dd_pair = defaultdict(lambda: [0,0])\n",
    "dd_pair[2][1] = 1\n",
    "print(dd_pair)"
   ]
  },
  {
   "cell_type": "code",
   "execution_count": 9,
   "metadata": {},
   "outputs": [
    {
     "name": "stdout",
     "output_type": "stream",
     "text": [
      "Counter({0: 2, 1: 1, 2: 1})\n",
      "Counter({'a': 3, ' ': 2, 'e': 2, 'I': 1, 'm': 1, 'J': 1, 'p': 1, 'n': 1, 's': 1, '.': 1})\n",
      "a 3\n",
      "  2\n",
      "e 2\n",
      "I 1\n",
      "m 1\n",
      "J 1\n",
      "p 1\n",
      "n 1\n",
      "s 1\n",
      ". 1\n"
     ]
    }
   ],
   "source": [
    "# counter class\n",
    "from collections import Counter\n",
    "\n",
    "c = Counter([0,1,2,0])\n",
    "print(c)\n",
    "\n",
    "word_counts = Counter(document)\n",
    "print(word_counts)\n",
    "\n",
    "for word, count in word_counts.most_common(10):\n",
    "    print(word, count)"
   ]
  },
  {
   "cell_type": "code",
   "execution_count": 16,
   "metadata": {},
   "outputs": [
    {
     "name": "stdout",
     "output_type": "stream",
     "text": [
      "set()\n",
      "{1}\n",
      "{1, 2}\n",
      "{1, 2}\n",
      "2\n",
      "True\n",
      "False\n",
      "False\n",
      "False\n",
      "6\n",
      "{1, 2, 3}\n",
      "3\n",
      "[1, 2, 3]\n"
     ]
    }
   ],
   "source": [
    "# set\n",
    "\n",
    "# 1\n",
    "s = set(); print(s)\n",
    "s.add(1); print(s)\n",
    "s.add(2); print(s)\n",
    "s.add(2); print(s)\n",
    "x = len(s); print(x)\n",
    "y = 2 in s; print(y)\n",
    "z = 3 in s; print(z)\n",
    "\n",
    "# 2\n",
    "hundreds_of_other_words = [\"add\", \"like\", \"proof\"]\n",
    "\n",
    "stopwords_list = [\"a\", \"an\", \"at\"] + hundreds_of_other_words + [\"yet\",\"you\"]\n",
    "print(\"zip\" in stopwords_list)\n",
    "\n",
    "stopwords_set = set(stopwords_list)\n",
    "print(\"zip\" in stopwords_list)\n",
    "\n",
    "# 3\n",
    "item_list = [1,2,3,1,2,3]\n",
    "num_items = len(item_list); print(num_items)\n",
    "item_set = set(item_list); print(item_set)\n",
    "num_distinct_items = len(item_set); print(num_distinct_items)\n",
    "distinct_item_list = list(item_set); print(distinct_item_list)"
   ]
  },
  {
   "cell_type": "code",
   "execution_count": 10,
   "metadata": {},
   "outputs": [
    {
     "name": "stdout",
     "output_type": "stream",
     "text": [
      "True\n",
      "False\n",
      "True\n",
      "True\n",
      "r\n",
      "r\n",
      "False\n",
      "True\n",
      "False\n",
      "True\n",
      "True\n",
      "False\n"
     ]
    }
   ],
   "source": [
    "# true and false\n",
    "\n",
    "one_is_less_than_two = 1 < 2\n",
    "print(one_is_less_than_two)\n",
    "\n",
    "true_equals_false = True == False\n",
    "print(true_equals_false)\n",
    "\n",
    "x = None\n",
    "print(x == None) # not pythonic\n",
    "print(x is None) # pythonic\n",
    "\n",
    "s = \"returned_string\"\n",
    "if s:\n",
    "    first_char = s[0]\n",
    "else:\n",
    "    first_char = \"\"\n",
    "print(first_char)\n",
    "\n",
    "first_char = s and s[0] # if first value is True, 'first_char' is second value. 'and' connects two value.\n",
    "print(first_char)\n",
    "\n",
    "d = False\n",
    "illegal_char = d and d[0]\n",
    "print(illegal_char)\n",
    "\n",
    "print( all([True, 1, {3}]) )\n",
    "print( all([True, 1, {}]) )\n",
    "print( any([True, 1, {}]) )\n",
    "print( all([]) )\n",
    "print( any([]) )"
   ]
  },
  {
   "cell_type": "code",
   "execution_count": 20,
   "metadata": {},
   "outputs": [
    {
     "name": "stdout",
     "output_type": "stream",
     "text": [
      "x [4, 1, 2, 3]\n",
      "y [1, 2, 3, 4]\n",
      "x [1, 2, 3, 4]\n",
      "[-4, 3, -2, 1]\n",
      "[3, 1, -2, -4]\n"
     ]
    }
   ],
   "source": [
    "# sorting\n",
    "\n",
    "x = [4,1,2,3]\n",
    "y = sorted(x) # generate new list\n",
    "print('x', x)\n",
    "print('y', y)\n",
    "x.sort()\n",
    "print('x', x)\n",
    "\n",
    "x = sorted([-4,1,-2,3], key=abs, reverse=True)\n",
    "print(x)\n",
    "x = sorted([-4,1,-2,3], reverse=True)\n",
    "print(x)"
   ]
  },
  {
   "cell_type": "code",
   "execution_count": 8,
   "metadata": {},
   "outputs": [
    {
     "name": "stdout",
     "output_type": "stream",
     "text": [
      "[0, 2, 4]\n",
      "[0, 1, 4, 9, 16]\n",
      "[0, 4, 16]\n",
      "{0: 0, 1: 1, 2: 4, 3: 9, 4: 16}\n",
      "{9, 4, 1}\n",
      "[0, 0, 0]\n",
      "[(0, 0), (0, 1), (0, 2), (0, 3), (0, 4), (0, 5), (0, 6), (0, 7), (0, 8), (0, 9), (1, 0), (1, 1), (1, 2), (1, 3), (1, 4), (1, 5), (1, 6), (1, 7), (1, 8), (1, 9), (2, 0), (2, 1), (2, 2), (2, 3), (2, 4), (2, 5), (2, 6), (2, 7), (2, 8), (2, 9), (3, 0), (3, 1), (3, 2), (3, 3), (3, 4), (3, 5), (3, 6), (3, 7), (3, 8), (3, 9), (4, 0), (4, 1), (4, 2), (4, 3), (4, 4), (4, 5), (4, 6), (4, 7), (4, 8), (4, 9), (5, 0), (5, 1), (5, 2), (5, 3), (5, 4), (5, 5), (5, 6), (5, 7), (5, 8), (5, 9), (6, 0), (6, 1), (6, 2), (6, 3), (6, 4), (6, 5), (6, 6), (6, 7), (6, 8), (6, 9), (7, 0), (7, 1), (7, 2), (7, 3), (7, 4), (7, 5), (7, 6), (7, 7), (7, 8), (7, 9), (8, 0), (8, 1), (8, 2), (8, 3), (8, 4), (8, 5), (8, 6), (8, 7), (8, 8), (8, 9), (9, 0), (9, 1), (9, 2), (9, 3), (9, 4), (9, 5), (9, 6), (9, 7), (9, 8), (9, 9)]\n",
      "[(0, 1), (0, 2), (0, 3), (0, 4), (0, 5), (0, 6), (0, 7), (0, 8), (0, 9), (1, 2), (1, 3), (1, 4), (1, 5), (1, 6), (1, 7), (1, 8), (1, 9), (2, 3), (2, 4), (2, 5), (2, 6), (2, 7), (2, 8), (2, 9), (3, 4), (3, 5), (3, 6), (3, 7), (3, 8), (3, 9), (4, 5), (4, 6), (4, 7), (4, 8), (4, 9), (5, 6), (5, 7), (5, 8), (5, 9), (6, 7), (6, 8), (6, 9), (7, 8), (7, 9), (8, 9)]\n"
     ]
    }
   ],
   "source": [
    "# list comprehension\n",
    "\n",
    "even_numbers = [x for x in range(5) if x % 2 is 0]\n",
    "print(even_numbers)\n",
    "\n",
    "squares = [x * x for x in range(5)]\n",
    "print(squares)\n",
    "\n",
    "even_squares = [x * x for x in even_numbers]\n",
    "print(even_squares)\n",
    "\n",
    "square_dict = {x : x * x for x in range(5)}\n",
    "print(square_dict)\n",
    "\n",
    "square_set = {x * x for x in [3,2,1,-1,-2,-3]}\n",
    "print(square_set)\n",
    "\n",
    "zeroes = [0 for _ in even_numbers]\n",
    "print(zeroes)\n",
    "\n",
    "pairs = [(x,y)\n",
    "        for x in range(10)\n",
    "        for y in range(10)]\n",
    "print(pairs)\n",
    "\n",
    "increasing_pairs = [(x,y)\n",
    "                   for x in range(10)\n",
    "                   for y in range(x + 1, 10)]\n",
    "print(increasing_pairs)"
   ]
  },
  {
   "cell_type": "code",
   "execution_count": 11,
   "metadata": {},
   "outputs": [
    {
     "name": "stdout",
     "output_type": "stream",
     "text": [
      "0\n",
      "1\n",
      "2\n",
      "3\n",
      "4\n",
      "5\n",
      "6\n",
      "7\n",
      "8\n",
      "9\n",
      "[0, 2, 4, 6, 8, 10, 12, 14, 16, 18]\n"
     ]
    }
   ],
   "source": [
    "# generator and iterator\n",
    "\n",
    "def lazy_range(n):\n",
    "    i = 0\n",
    "    while i < n:\n",
    "        yield i\n",
    "        i += 1\n",
    "        \n",
    "for i in lazy_range(10):\n",
    "    print(i)\n",
    "    \n",
    "lazy_evens_below_20 = (i for i in lazy_range(20) if i % 2 == 0)\n",
    "print(list(lazy_evens_below_20))"
   ]
  },
  {
   "cell_type": "code",
   "execution_count": 2,
   "metadata": {},
   "outputs": [
    {
     "name": "stdout",
     "output_type": "stream",
     "text": [
      "[0.6558300559193405, 0.4081744904165576, 0.33511042455065876, 0.14466584294033136]\n",
      "0.5714025946899135\n",
      "0.5714025946899135\n",
      "0.1456692551041303\n",
      "7\n",
      "3\n",
      "[2, 1, 3, 8, 7, 0, 4, 9, 5, 6]\n"
     ]
    }
   ],
   "source": [
    "# random\n",
    "\n",
    "import random\n",
    "\n",
    "four_uniform_randoms = [random.random() for _ in range(4)]\n",
    "print(four_uniform_randoms)\n",
    "\n",
    "random.seed(10)\n",
    "print(random.random())\n",
    "\n",
    "random.seed(10)\n",
    "print(random.random())\n",
    "\n",
    "random.seed(100)\n",
    "print(random.random())\n",
    "\n",
    "print(random.randrange(10))\n",
    "\n",
    "print(random.randrange(3,6))\n",
    "\n",
    "up_to_ten = [x for x in range(10)]\n",
    "random.shuffle(up_to_ten)\n",
    "print(up_to_ten)"
   ]
  },
  {
   "cell_type": "code",
   "execution_count": 6,
   "metadata": {},
   "outputs": [
    {
     "name": "stdout",
     "output_type": "stream",
     "text": [
      "[54, 41, 40, 7, 11, 0]\n",
      "[9, 6, 2, 9]\n"
     ]
    }
   ],
   "source": [
    "lottery_numbers = range(60)\n",
    "winning_numbers = random.sample(lottery_numbers, 6)\n",
    "print(winning_numbers)\n",
    "\n",
    "four_with_replacement = [random.choice(range(10)) for _ in range(4)]\n",
    "print(four_with_replacement)"
   ]
  },
  {
   "cell_type": "code",
   "execution_count": 7,
   "metadata": {},
   "outputs": [
    {
     "name": "stdout",
     "output_type": "stream",
     "text": [
      "True\n"
     ]
    }
   ],
   "source": [
    "# regular expression\n",
    "\n",
    "import re\n",
    "\n",
    "print(\n",
    "    all([\n",
    "        not re.match(\"a\", \"cat\"),\n",
    "        re.search(\"a\", \"cat\"),\n",
    "        not re.search(\"c\", \"dog\"),\n",
    "        3 == len(re.split(\"[ab]\", \"carbs\")),\n",
    "        \"R-D-\" == re.sub(\"[0-9]\", \"-\", \"R2D2\")\n",
    "    ]))"
   ]
  },
  {
   "cell_type": "code",
   "execution_count": 6,
   "metadata": {},
   "outputs": [
    {
     "name": "stdout",
     "output_type": "stream",
     "text": [
      "8\n",
      "9\n",
      "[2, 4, 6, 8]\n",
      "[2, 4, 6, 8]\n"
     ]
    }
   ],
   "source": [
    "# functional tool\n",
    "\n",
    "def exp(base, power):\n",
    "    return base ** power\n",
    "\n",
    "#def two_to_the(power):\n",
    "#    return exp(2, power)\n",
    "\n",
    "from functools import partial\n",
    "two_to_the = partial(exp, 2)\n",
    "print(two_to_the(3))\n",
    "        \n",
    "square_of = partial(exp, power=2)\n",
    "print(square_of(3))\n",
    "\n",
    "def double(x):\n",
    "    return 2 * x\n",
    "\n",
    "xs = [1,2,3,4]\n",
    "\n",
    "twice_xs = [double(x) for x in xs]\n",
    "print(twice_xs)\n",
    "\n",
    "twice_xs = list(map(double, xs))\n",
    "print(twice_xs)\n"
   ]
  },
  {
   "cell_type": "code",
   "execution_count": 9,
   "metadata": {},
   "outputs": [
    {
     "name": "stdout",
     "output_type": "stream",
     "text": [
      "[2, 4]\n",
      "[2, 4]\n",
      "[2, 4]\n"
     ]
    }
   ],
   "source": [
    "# filter()\n",
    "\n",
    "def is_even(x):\n",
    "    return x % 2 == 0\n",
    "\n",
    "x_evens = [x for x in xs if is_even(x)]\n",
    "print(x_evens)\n",
    "\n",
    "x_evens = list(filter(is_even, xs))\n",
    "print(x_evens)\n",
    "\n",
    "list_evener = partial(filter, is_even)\n",
    "x_evens = list(list_evener(xs))\n",
    "print(x_evens)\n"
   ]
  },
  {
   "cell_type": "code",
   "execution_count": 19,
   "metadata": {},
   "outputs": [
    {
     "name": "stdout",
     "output_type": "stream",
     "text": [
      "[('a', 1), ('b', 2), ('c', 3)]\n",
      "('a', 'b', 'c')\n",
      "(1, 2, 3)\n"
     ]
    }
   ],
   "source": [
    "# zip\n",
    "\n",
    "list1 = ['a','b','c']\n",
    "list2 = [1,2,3]\n",
    "listZip = list(zip(list1, list2))\n",
    "print(listZip)\n",
    "\n",
    "pairs = listZip[:]\n",
    "letters, numbers = zip(*pairs)\n",
    "print(letters)\n",
    "print(numbers)"
   ]
  },
  {
   "cell_type": "code",
   "execution_count": 2,
   "metadata": {},
   "outputs": [
    {
     "name": "stdout",
     "output_type": "stream",
     "text": [
      "8\n",
      "0\n"
     ]
    }
   ],
   "source": [
    "# args and kwargs\n",
    "\n",
    "def doubler(f):\n",
    "    def g(x):\n",
    "        return 2 * f(x)\n",
    "    return g\n",
    "\n",
    "def f1(x):\n",
    "    return x + 1\n",
    "\n",
    "g = doubler(f1)\n",
    "print(g(3))\n",
    "print(g(-1))"
   ]
  },
  {
   "cell_type": "code",
   "execution_count": 3,
   "metadata": {},
   "outputs": [
    {
     "ename": "TypeError",
     "evalue": "g() takes 1 positional argument but 2 were given",
     "output_type": "error",
     "traceback": [
      "\u001b[1;31m---------------------------------------------------------------------------\u001b[0m",
      "\u001b[1;31mTypeError\u001b[0m                                 Traceback (most recent call last)",
      "\u001b[1;32m<ipython-input-3-fa061a00e810>\u001b[0m in \u001b[0;36m<module>\u001b[1;34m()\u001b[0m\n\u001b[0;32m      3\u001b[0m \u001b[1;33m\u001b[0m\u001b[0m\n\u001b[0;32m      4\u001b[0m \u001b[0mg\u001b[0m \u001b[1;33m=\u001b[0m \u001b[0mdoubler\u001b[0m\u001b[1;33m(\u001b[0m\u001b[0mf2\u001b[0m\u001b[1;33m)\u001b[0m\u001b[1;33m\u001b[0m\u001b[0m\n\u001b[1;32m----> 5\u001b[1;33m \u001b[0mprint\u001b[0m\u001b[1;33m(\u001b[0m\u001b[0mg\u001b[0m\u001b[1;33m(\u001b[0m\u001b[1;36m1\u001b[0m\u001b[1;33m,\u001b[0m\u001b[1;36m2\u001b[0m\u001b[1;33m)\u001b[0m\u001b[1;33m)\u001b[0m\u001b[1;33m\u001b[0m\u001b[0m\n\u001b[0m",
      "\u001b[1;31mTypeError\u001b[0m: g() takes 1 positional argument but 2 were given"
     ]
    }
   ],
   "source": [
    "def f2(x,y):\n",
    "    return x + y\n",
    "\n",
    "g = doubler(f2)\n",
    "print(g(1,2))"
   ]
  },
  {
   "cell_type": "code",
   "execution_count": 4,
   "metadata": {},
   "outputs": [
    {
     "name": "stdout",
     "output_type": "stream",
     "text": [
      "名前なし引数： (1, 2)\n",
      "キーワード引数： {'key': 'Word', 'key2': 'word2'}\n"
     ]
    }
   ],
   "source": [
    "def magic(*args, **kwargs):\n",
    "    print(\"名前なし引数：\", args)\n",
    "    print(\"キーワード引数：\", kwargs)\n",
    "    \n",
    "magic(1,2,key=\"Word\",key2=\"word2\")"
   ]
  },
  {
   "cell_type": "code",
   "execution_count": 6,
   "metadata": {},
   "outputs": [
    {
     "name": "stdout",
     "output_type": "stream",
     "text": [
      "6\n"
     ]
    }
   ],
   "source": [
    "def other_way_magic(x,y,z):\n",
    "    return x + y + z\n",
    "\n",
    "x_y_list = [1,2]\n",
    "z_dict = {\"z\":3}\n",
    "print(other_way_magic(*x_y_list, **z_dict))"
   ]
  },
  {
   "cell_type": "code",
   "execution_count": 8,
   "metadata": {},
   "outputs": [
    {
     "name": "stdout",
     "output_type": "stream",
     "text": [
      "6\n"
     ]
    }
   ],
   "source": [
    "def doubler_correct(f):\n",
    "    def g(*args, **kwargs):\n",
    "        return 2 * f(*args, **kwargs)\n",
    "    return g\n",
    "\n",
    "g = doubler_correct(f2)\n",
    "print(g(1,2))"
   ]
  },
  {
   "cell_type": "code",
   "execution_count": null,
   "metadata": {
    "collapsed": true
   },
   "outputs": [],
   "source": []
  }
 ],
 "metadata": {
  "kernelspec": {
   "display_name": "Python 3",
   "language": "python",
   "name": "python3"
  },
  "language_info": {
   "codemirror_mode": {
    "name": "ipython",
    "version": 3
   },
   "file_extension": ".py",
   "mimetype": "text/x-python",
   "name": "python",
   "nbconvert_exporter": "python",
   "pygments_lexer": "ipython3",
   "version": "3.6.1"
  }
 },
 "nbformat": 4,
 "nbformat_minor": 2
}
