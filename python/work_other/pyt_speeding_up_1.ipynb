{
 "cells": [
  {
   "cell_type": "code",
   "execution_count": 1,
   "metadata": {
    "collapsed": true
   },
   "outputs": [],
   "source": [
    "import numpy as np\n",
    "import scipy.sparse as sparse\n",
    "import time"
   ]
  },
  {
   "cell_type": "code",
   "execution_count": 2,
   "metadata": {
    "collapsed": true
   },
   "outputs": [],
   "source": [
    "# compute1\n",
    "\n",
    "def compute1(N,M,L,a,b,c):\n",
    "    r = np.empty((N,L))\n",
    "    for i in range(N):\n",
    "        for j in range(L):\n",
    "            d = 0.0\n",
    "            for k in range(M):\n",
    "                d += a[k] * b[i,k] * c[k,j]\n",
    "            r[i,j] = d\n",
    "    return r"
   ]
  },
  {
   "cell_type": "code",
   "execution_count": 3,
   "metadata": {
    "collapsed": true
   },
   "outputs": [],
   "source": [
    "# compute2\n",
    "\n",
    "def compute2(N,M,L,a,b,c):\n",
    "    return sum([a[k]*np.outer(b[:,k],c[k,:]) for k in range(M)])"
   ]
  },
  {
   "cell_type": "code",
   "execution_count": 4,
   "metadata": {
    "collapsed": true
   },
   "outputs": [],
   "source": [
    "# compute3\n",
    "\n",
    "def compute3(N,M,L,a,b,c):\n",
    "    aa = sparse.diags([a],[0])\n",
    "    return np.dot(b,aa.dot(c))"
   ]
  },
  {
   "cell_type": "code",
   "execution_count": 5,
   "metadata": {
    "collapsed": true
   },
   "outputs": [],
   "source": [
    "# compute4\n",
    "\n",
    "def compute4(N,M,L,a,b,c):\n",
    "    return np.dot(b*a,c)"
   ]
  },
  {
   "cell_type": "code",
   "execution_count": 6,
   "metadata": {},
   "outputs": [
    {
     "name": "stdout",
     "output_type": "stream",
     "text": [
      "comupute1 : 14.579 sec\n",
      "comupute2 : 1.047 sec\n",
      "comupute3 : 0.016 sec\n",
      "comupute4 : 0.000 sec\n"
     ]
    }
   ],
   "source": [
    "def main():\n",
    "    np.random.seed(0)\n",
    "    N=10\n",
    "    M=10000\n",
    "    L=20\n",
    "    a=np.random.random(M)\n",
    "    N_ITER=10\n",
    "    b=np.random.random((N,M))\n",
    "    c=np.random.random((M,L))\n",
    "\n",
    "    t=time.time()\n",
    "    for _ in range(N_ITER):\n",
    "        r1 = compute1(N,M,L,a,b,c)\n",
    "    tt = time.time()\n",
    "    print(\"comupute1 : %.3f sec\" % (tt-t))\n",
    "    \n",
    "    t=time.time()\n",
    "    for _ in range(N_ITER):\n",
    "        r2 = compute2(N,M,L,a,b,c)\n",
    "    tt = time.time()\n",
    "    print(\"comupute2 : %.3f sec\" % (tt-t))\n",
    "\n",
    "    t=time.time()\n",
    "    for _ in range(N_ITER):\n",
    "        r3 = compute3(N,M,L,a,b,c)\n",
    "    tt = time.time()\n",
    "    print(\"comupute3 : %.3f sec\" % (tt-t))\n",
    "\n",
    "    t=time.time()\n",
    "    for _ in range(N_ITER):\n",
    "        r4 = compute4(N,M,L,a,b,c)\n",
    "    tt = time.time()\n",
    "    print(\"comupute4 : %.3f sec\" % (tt-t))\n",
    "\n",
    "    eps = 1e-10\n",
    "    y=(r1-r2).reshape(N*L)\n",
    "    assert np.dot(y,y) < eps*N*L\n",
    "    y=(r1-r3).reshape(N*L)\n",
    "    assert np.dot(y,y) < eps*N*L\n",
    "    y=(r1-r4).reshape(N*L)\n",
    "    assert np.dot(y,y) < eps*N*L\n",
    "    \n",
    "main()\n"
   ]
  },
  {
   "cell_type": "code",
   "execution_count": null,
   "metadata": {
    "collapsed": true
   },
   "outputs": [],
   "source": []
  }
 ],
 "metadata": {
  "kernelspec": {
   "display_name": "Python 3",
   "language": "python",
   "name": "python3"
  },
  "language_info": {
   "codemirror_mode": {
    "name": "ipython",
    "version": 3
   },
   "file_extension": ".py",
   "mimetype": "text/x-python",
   "name": "python",
   "nbconvert_exporter": "python",
   "pygments_lexer": "ipython3",
   "version": "3.6.1"
  }
 },
 "nbformat": 4,
 "nbformat_minor": 2
}
