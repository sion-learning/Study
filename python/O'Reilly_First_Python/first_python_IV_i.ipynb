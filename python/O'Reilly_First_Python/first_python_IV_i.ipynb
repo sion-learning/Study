{
 "cells": [
  {
   "cell_type": "code",
   "execution_count": 1,
   "metadata": {
    "collapsed": true
   },
   "outputs": [],
   "source": [
    "import time,sys\n",
    "reps = 1000\n",
    "size = 10000"
   ]
  },
  {
   "cell_type": "code",
   "execution_count": 2,
   "metadata": {
    "collapsed": true
   },
   "outputs": [],
   "source": [
    "def tester(func, *args):\n",
    "    startTime = time.time()\n",
    "    for i in range(reps):\n",
    "        func(*args)\n",
    "    elapsed = time.time() - startTime\n",
    "    return elapsed\n",
    "\n",
    "def forStatement():\n",
    "    res = []\n",
    "    for x in range(size):\n",
    "        res.append(abs(x))\n",
    "    \n",
    "def listComprehension():\n",
    "    res = [abs(x) for x in range(size)]\n",
    "\n",
    "def mapFunction():\n",
    "    res = list(map(abs, range(size)))\n",
    "\n",
    "def generatorExpression():\n",
    "    res = list(abs(x) for x in range(size))\n"
   ]
  },
  {
   "cell_type": "code",
   "execution_count": 3,
   "metadata": {},
   "outputs": [
    {
     "name": "stdout",
     "output_type": "stream",
     "text": [
      "3.6.1 |Anaconda 4.4.0 (64-bit)| (default, May 11 2017, 13:25:24) [MSC v.1900 64 bit (AMD64)]\n",
      "forStatement         => 1.50146484375\n",
      "listComprehension    => 0.7753210067749023\n",
      "mapFunction          => 0.0\n",
      "generatorExpression  => 1.0919091701507568\n"
     ]
    }
   ],
   "source": [
    "print(sys.version)\n",
    "tests = (forStatement, listComprehension, mapFunction, generatorExpression)\n",
    "for testfunc in tests:\n",
    "    print(testfunc.__name__.ljust(20), '=>', tester(testfunc))"
   ]
  },
  {
   "cell_type": "code",
   "execution_count": null,
   "metadata": {
    "collapsed": true
   },
   "outputs": [],
   "source": []
  }
 ],
 "metadata": {
  "kernelspec": {
   "display_name": "Python 3",
   "language": "python",
   "name": "python3"
  },
  "language_info": {
   "codemirror_mode": {
    "name": "ipython",
    "version": 3
   },
   "file_extension": ".py",
   "mimetype": "text/x-python",
   "name": "python",
   "nbconvert_exporter": "python",
   "pygments_lexer": "ipython3",
   "version": "3.6.1"
  }
 },
 "nbformat": 4,
 "nbformat_minor": 2
}
