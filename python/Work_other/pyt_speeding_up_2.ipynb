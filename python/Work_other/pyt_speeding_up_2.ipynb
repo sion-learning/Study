{
 "cells": [
  {
   "cell_type": "code",
   "execution_count": 1,
   "metadata": {
    "collapsed": true
   },
   "outputs": [],
   "source": [
    "import numpy as np\n",
    "import pandas as pd\n",
    "import scipy as sp"
   ]
  },
  {
   "cell_type": "code",
   "execution_count": 4,
   "metadata": {
    "collapsed": true
   },
   "outputs": [],
   "source": [
    "# case 1\n",
    "\n",
    "def func1(n):\n",
    "    a = []\n",
    "    for i in range(n):\n",
    "        a.append(i)\n",
    "    return a\n",
    "\n",
    "def func2(n):\n",
    "    a = [0 for i in range(n)]\n",
    "    for i in range(n):\n",
    "        a[i] = i\n",
    "    return a\n",
    "\n",
    "def func3(n):\n",
    "    a = [None] * n\n",
    "    for i in range(n):\n",
    "        a[i] = i\n",
    "    return a\n",
    "\n",
    "def func4(n):\n",
    "    a = [i for i in range(n)]\n",
    "    return a\n",
    "\n",
    "def func5(n):\n",
    "    return [i for i in range(n)]"
   ]
  },
  {
   "cell_type": "code",
   "execution_count": 5,
   "metadata": {},
   "outputs": [
    {
     "name": "stdout",
     "output_type": "stream",
     "text": [
      "Wall time: 1.09 s\n",
      "Wall time: 1.2 s\n",
      "Wall time: 730 ms\n",
      "Wall time: 599 ms\n",
      "Wall time: 595 ms\n"
     ]
    }
   ],
   "source": [
    "%time a = func1(10000000)\n",
    "%time a = func2(10000000)\n",
    "%time a = func3(10000000)\n",
    "%time a = func4(10000000)\n",
    "%time a = func5(10000000)"
   ]
  },
  {
   "cell_type": "code",
   "execution_count": 6,
   "metadata": {
    "collapsed": true
   },
   "outputs": [],
   "source": [
    "# case 2\n",
    "\n",
    "a = np.array([i for i in range(10000000)])\n",
    "\n",
    "def func1(x):\n",
    "    y = x.copy()\n",
    "    for i in range(len(y)):\n",
    "        y[i] *= 2\n",
    "    return y\n",
    "\n",
    "def func2(a):\n",
    "    return a * 2"
   ]
  },
  {
   "cell_type": "code",
   "execution_count": 7,
   "metadata": {},
   "outputs": [
    {
     "name": "stdout",
     "output_type": "stream",
     "text": [
      "Wall time: 3.82 s\n",
      "Wall time: 14.5 ms\n"
     ]
    }
   ],
   "source": [
    "%time b = func1(a)\n",
    "%time c = func2(a)"
   ]
  },
  {
   "cell_type": "code",
   "execution_count": null,
   "metadata": {
    "collapsed": true
   },
   "outputs": [],
   "source": []
  }
 ],
 "metadata": {
  "kernelspec": {
   "display_name": "Python 3",
   "language": "python",
   "name": "python3"
  },
  "language_info": {
   "codemirror_mode": {
    "name": "ipython",
    "version": 3
   },
   "file_extension": ".py",
   "mimetype": "text/x-python",
   "name": "python",
   "nbconvert_exporter": "python",
   "pygments_lexer": "ipython3",
   "version": "3.6.1"
  }
 },
 "nbformat": 4,
 "nbformat_minor": 2
}
