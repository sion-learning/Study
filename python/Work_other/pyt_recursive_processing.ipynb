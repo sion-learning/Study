{
 "cells": [
  {
   "cell_type": "code",
   "execution_count": 10,
   "metadata": {},
   "outputs": [
    {
     "name": "stdout",
     "output_type": "stream",
     "text": [
      "fact( 5 3 3 )\n",
      "fact( 4 3 9 )\n",
      "fact( 3 3 27 )\n",
      "fact( 2 3 81 )\n",
      "fact( 1 3 243 )\n",
      "729\n"
     ]
    }
   ],
   "source": [
    "#coding: utf-8\n",
    "\n",
    "def fact(n, b, a=1):\n",
    "    if n == 0:\n",
    "        return a\n",
    "    print(\"fact(\", n, b, a, \")\")\n",
    "    return fact(n-1, b, a*b)\n",
    "\n",
    "ans = fact(5, 3, 3)\n",
    "\n",
    "print(ans)"
   ]
  },
  {
   "cell_type": "code",
   "execution_count": null,
   "metadata": {
    "collapsed": true
   },
   "outputs": [],
   "source": []
  }
 ],
 "metadata": {
  "kernelspec": {
   "display_name": "Python 3",
   "language": "python",
   "name": "python3"
  },
  "language_info": {
   "codemirror_mode": {
    "name": "ipython",
    "version": 3
   },
   "file_extension": ".py",
   "mimetype": "text/x-python",
   "name": "python",
   "nbconvert_exporter": "python",
   "pygments_lexer": "ipython3",
   "version": "3.6.1"
  }
 },
 "nbformat": 4,
 "nbformat_minor": 2
}
