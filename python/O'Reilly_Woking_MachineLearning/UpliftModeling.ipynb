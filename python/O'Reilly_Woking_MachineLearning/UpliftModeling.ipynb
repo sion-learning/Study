{
 "cells": [
  {
   "cell_type": "code",
   "execution_count": 1,
   "metadata": {},
   "outputs": [
    {
     "data": {
      "text/plain": [
       "([False, False],\n",
       " [True, True],\n",
       " [[0.13436424411240122,\n",
       "   0.8474337369372327,\n",
       "   0.763774618976614,\n",
       "   0.2550690257394217,\n",
       "   0.49543508709194095,\n",
       "   0.4494910647887381,\n",
       "   0.651592972722763,\n",
       "   0.7887233511355132],\n",
       "  [0.8933170425576351,\n",
       "   0.3898088070211341,\n",
       "   0.6074379962852603,\n",
       "   0.767157629147962,\n",
       "   0.6958328667684435,\n",
       "   0.26633056045725956,\n",
       "   0.8018263669964836,\n",
       "   0.5911534350013039]])"
      ]
     },
     "execution_count": 1,
     "metadata": {},
     "output_type": "execute_result"
    }
   ],
   "source": [
    "import random\n",
    "\n",
    "def generate_sample_data(num,seed=1):\n",
    "    #返却するリストを確保\n",
    "    is_cv_list = []\n",
    "    is_treat_list = []\n",
    "    feature_vector_list = []\n",
    "    \n",
    "    #乱数を初期化\n",
    "    random_instance = random.Random(seed)\n",
    "    \n",
    "    #返す関数の特徴を設定\n",
    "    feature_num = 8\n",
    "    base_weight = [0.02,0.03,0.05,-0.04,0.00,0.00,0.00,0.00]\n",
    "    lift_weight = [0.00,0.00,0.00,0.05,-0.05,0.00,0.00,0.00]\n",
    "    \n",
    "    for i in range(num):\n",
    "        #特徴ベクトルを乱数で生成\n",
    "        feature_vector = [random_instance.random() for n in range(feature_num)]\n",
    "        #実験群かどうかを乱数で決定\n",
    "        is_treat = random_instance.choice((True, False))\n",
    "        #内部的なコンバージョンレートを算出\n",
    "        cv_rate = sum([feature_vector[n] * base_weight[n] for n in range(feature_num)])\n",
    "        \n",
    "        if is_treat:\n",
    "            #実験群であれば、lift_weightを加味する\n",
    "            cv_rate += sum([feature_vector[n] * lift_weight[n] for n in range(feature_num)])\n",
    "            \n",
    "        #実際にコンバージョンしたかどうかを決定する\n",
    "        is_cv = cv_rate > random_instance.random()\n",
    "        \n",
    "        #生成した値を格納\n",
    "        is_cv_list.append(is_cv)\n",
    "        is_treat_list.append(is_treat)\n",
    "        feature_vector_list.append(feature_vector)\n",
    "        \n",
    "    #値を返す\n",
    "    return is_cv_list, is_treat_list, feature_vector_list\n",
    "\n",
    "generate_sample_data(2)"
   ]
  },
  {
   "cell_type": "code",
   "execution_count": 2,
   "metadata": {},
   "outputs": [
    {
     "name": "stdout",
     "output_type": "stream",
     "text": [
      "treatment_cvr 0.036918778686888844\n",
      "control_cvr 0.03627981559430748\n"
     ]
    }
   ],
   "source": [
    "#9.4\n",
    "\n",
    "#trainデータの生成\n",
    "sample_num = 10000\n",
    "train_is_cv_list, train_is_treat_list, train_feature_vector_list = generate_sample_data(sample_num, seed=1)\n",
    "\n",
    "#データをtreatmentとcontrolに分離\n",
    "treat_is_cv_list = []\n",
    "treat_feature_vector_list = []\n",
    "control_is_cv_list = []\n",
    "control_feature_vector_list = []\n",
    "\n",
    "for i in range(sample_num):\n",
    "    if train_is_treat_list[i]:\n",
    "        treat_is_cv_list.append(train_is_cv_list[i])\n",
    "        treat_feature_vector_list.append(train_feature_vector_list[i])\n",
    "    else:\n",
    "        control_is_cv_list.append(train_is_cv_list[i])\n",
    "        control_feature_vector_list.append(train_feature_vector_list[i])\n",
    "\n",
    "#コンバージョンレートを表示\n",
    "print(\"treatment_cvr\", treat_is_cv_list.count(True) / len(treat_is_cv_list))\n",
    "print(\"control_cvr\", control_is_cv_list.count(True) / len(control_is_cv_list))\n"
   ]
  },
  {
   "cell_type": "code",
   "execution_count": 3,
   "metadata": {},
   "outputs": [
    {
     "data": {
      "text/plain": [
       "LogisticRegression(C=0.01, class_weight=None, dual=False, fit_intercept=True,\n",
       "          intercept_scaling=1, max_iter=100, multi_class='ovr', n_jobs=1,\n",
       "          penalty='l2', random_state=None, solver='liblinear', tol=0.0001,\n",
       "          verbose=0, warm_start=False)"
      ]
     },
     "execution_count": 3,
     "metadata": {},
     "output_type": "execute_result"
    }
   ],
   "source": [
    "from sklearn.linear_model import LogisticRegression\n",
    "\n",
    "#学習器の生成\n",
    "treat_model = LogisticRegression(C=0.01)\n",
    "control_model = LogisticRegression(C=0.01)\n",
    "\n",
    "#学習器の構築\n",
    "treat_model.fit(treat_feature_vector_list, treat_is_cv_list)\n",
    "control_model.fit(control_feature_vector_list, control_is_cv_list)"
   ]
  },
  {
   "cell_type": "code",
   "execution_count": 4,
   "metadata": {
    "collapsed": true
   },
   "outputs": [],
   "source": [
    "#seedを変えてテストデータを生成\n",
    "test_is_cv_list, test_is_treat_list, test_feature_vector_list = generate_sample_data(sample_num, seed=42)\n",
    "\n",
    "#それぞれの学習器でコンバージョンレートを予測\n",
    "treat_score = treat_model.predict_proba(test_feature_vector_list)\n",
    "control_score = control_model.predict_proba(test_feature_vector_list)\n",
    "\n",
    "#スコアの算出、スコアは実験群の予測CVR　/　統制群の予測CVR\n",
    "#predict_probaはクラス所属確率のリストを返すため1番目を参照する\n",
    "#numpy.ndarrayなので、そのまま割り算しても、要素の割り算になる\n",
    "score_list = treat_score[:,1] / control_score[:,1]"
   ]
  },
  {
   "cell_type": "code",
   "execution_count": 5,
   "metadata": {},
   "outputs": [
    {
     "data": {
      "text/plain": [
       "<matplotlib.text.Text at 0x1a715d5f160>"
      ]
     },
     "execution_count": 5,
     "metadata": {},
     "output_type": "execute_result"
    },
    {
     "data": {
      "image/png": "[encoded data removed]",
      "text/plain": [
       "<matplotlib.figure.Figure at 0x1a715bfac88>"
      ]
     },
     "metadata": {},
     "output_type": "display_data"
    }
   ],
   "source": [
    "import pandas as pd\n",
    "import matplotlib.pyplot as plt\n",
    "from operator import itemgetter\n",
    "plt.style.use('ggplot')\n",
    "%matplotlib inline\n",
    "\n",
    "#スコアが高い順に並べる\n",
    "result = list((zip(test_is_cv_list, test_is_treat_list, score_list)))\n",
    "result.sort(key=itemgetter(2), reverse=True)\n",
    "\n",
    "qdf = pd.DataFrame(columns=('treat_cvr', 'control_cvr'))\n",
    "\n",
    "for n in range(10):\n",
    "    #結果を10%ごとに切断\n",
    "    start = int(n * len(result) / 10)\n",
    "    end = int((n + 1) * len(result) / 10) - 1\n",
    "    quantiled_result = result[start:end]\n",
    "    \n",
    "    #実験群と統制群の数を数える\n",
    "    treat_uu = list(map(lambda item: item[1], quantiled_result)).count(True)\n",
    "    control_uu = list(map(lambda item: item[1], quantiled_result)).count(False)\n",
    "    \n",
    "    #実験群と統制群のコンバージョン数を計測\n",
    "    treat_cv = [item[0] for item in quantiled_result if item[1] is True].count(True)\n",
    "    control_cv = [item[0] for item in quantiled_result if item[1] is False].count(True)\n",
    "    \n",
    "    #コンバージョンレートに変換し、表示用のDataFrameに格納\n",
    "    treat_cvr = treat_cv / treat_uu\n",
    "    control_cvr = control_cv / control_uu\n",
    "    \n",
    "    label = \"{}%-{}%\".format(n * 10, (n + 1) * 10)\n",
    "    qdf.loc[label] = [treat_cvr, control_cvr]\n",
    "    \n",
    "qdf.plot.bar()\n",
    "plt.xlabel(\"percentile\")\n",
    "plt.ylabel(\"conversion rate\")"
   ]
  },
  {
   "cell_type": "code",
   "execution_count": null,
   "metadata": {
    "collapsed": true
   },
   "outputs": [],
   "source": []
  }
 ],
 "metadata": {
  "kernelspec": {
   "display_name": "Python 3",
   "language": "python",
   "name": "python3"
  },
  "language_info": {
   "codemirror_mode": {
    "name": "ipython",
    "version": 3
   },
   "file_extension": ".py",
   "mimetype": "text/x-python",
   "name": "python",
   "nbconvert_exporter": "python",
   "pygments_lexer": "ipython3",
   "version": "3.6.1"
  }
 },
 "nbformat": 4,
 "nbformat_minor": 2
}
