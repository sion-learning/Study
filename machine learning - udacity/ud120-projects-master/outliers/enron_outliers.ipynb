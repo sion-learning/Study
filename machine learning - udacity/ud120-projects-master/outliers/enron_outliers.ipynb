{
 "cells": [
  {
   "cell_type": "code",
   "execution_count": 22,
   "metadata": {
    "collapsed": true
   },
   "outputs": [],
   "source": [
    "#!/usr/bin/python\n",
    "import pickle\n",
    "import sys\n",
    "import matplotlib.pyplot\n",
    "sys.path.append(\"../tools/\")\n",
    "from feature_format import featureFormat, targetFeatureSplit\n",
    "\n",
    "### read in data dictionary, convert to numpy array\n",
    "data_dict = pickle.load( open(\"../final_project/final_project_dataset.pkl\", \"r\") )\n",
    "features = [\"salary\", \"bonus\"]\n",
    "data = featureFormat(data_dict, features)"
   ]
  },
  {
   "cell_type": "code",
   "execution_count": 23,
   "metadata": {},
   "outputs": [
    {
     "name": "stdout",
     "output_type": "stream",
     "text": [
      "                                 salary     bonus\n",
      "BADUM JAMES P                       NaN       NaN\n",
      "BELFER ROBERT                       NaN       NaN\n",
      "BHATNAGAR SANJAY                    NaN       NaN\n",
      "BLAKE JR. NORMAN P                  NaN       NaN\n",
      "BROWN MICHAEL                       NaN       NaN\n",
      "CHAN RONNIE                         NaN       NaN\n",
      "CHRISTODOULOU DIOMEDES              NaN       NaN\n",
      "CLINE KENNETH W                     NaN       NaN\n",
      "CORDES WILLIAM R                    NaN       NaN\n",
      "DUNCAN JOHN H                       NaN       NaN\n",
      "FOWLER PEGGY                        NaN       NaN\n",
      "FOY JOE                             NaN       NaN\n",
      "FUGH JOHN L                         NaN       NaN\n",
      "GATHMANN WILLIAM D                  NaN       NaN\n",
      "GIBBS DANA R                        NaN       NaN\n",
      "GILLIS JOHN                         NaN       NaN\n",
      "GRAMM WENDY L                       NaN       NaN\n",
      "HAUG DAVID L                        NaN       NaN\n",
      "HAYES ROBERT E                      NaN       NaN\n",
      "HAYSLETT RODERICK J                 NaN       NaN\n",
      "HIRKO JOSEPH                        NaN       NaN\n",
      "HORTON STANLEY C                    NaN       NaN\n",
      "HUGHES JAMES A                      NaN       NaN\n",
      "JAEDICKE ROBERT                     NaN       NaN\n",
      "LAY KENNETH L                   1072321   7000000\n",
      "LEMAISTRE CHARLES                   NaN       NaN\n",
      "LEWIS RICHARD                       NaN       NaN\n",
      "LOCKHART EUGENE E                   NaN       NaN\n",
      "LOWRY CHARLES P                     NaN       NaN\n",
      "MCCARTY DANNY J                     NaN       NaN\n",
      "MCDONALD REBECCA                    NaN       NaN\n",
      "MENDELSOHN JOHN                     NaN       NaN\n",
      "MEYER JEROME J                      NaN       NaN\n",
      "MEYER ROCKFORD G                    NaN       NaN\n",
      "MORAN MICHAEL P                     NaN       NaN\n",
      "NOLES JAMES L                       NaN       NaN\n",
      "PEREIRA PAULO V. FERRAZ             NaN       NaN\n",
      "PIRO JIM                            NaN       NaN\n",
      "POWERS WILLIAM                      NaN       NaN\n",
      "PRENTICE JAMES                      NaN       NaN\n",
      "SAVAGE FRANK                        NaN       NaN\n",
      "SCRIMSHAW MATTHEW                   NaN       NaN\n",
      "SHERRICK JEFFREY B                  NaN       NaN\n",
      "SKILLING JEFFREY K              1111258   5600000\n",
      "THE TRAVEL AGENCY IN THE PARK       NaN       NaN\n",
      "TOTAL                          26704229  97343619\n",
      "URQUHART JOHN A                     NaN       NaN\n",
      "WAKEHAM JOHN                        NaN       NaN\n",
      "WALTERS GARETH W                    NaN       NaN\n",
      "WHALEY DAVID A                      NaN       NaN\n",
      "WINOKUR JR. HERBERT S               NaN       NaN\n",
      "WODRASKA JOHN                       NaN       NaN\n",
      "WROBEL BRUCE                        NaN       NaN\n",
      "YEAP SOON                           NaN       NaN\n"
     ]
    }
   ],
   "source": [
    "import pandas as pd\n",
    "df = pd.DataFrame(data_dict)\n",
    "df = df.T\n",
    "df_pull = pd.concat((df[\"salary\"], df[\"bonus\"]), axis=1)\n",
    "ans = df_pull[df_pull[\"bonus\"] > 5000000]\n",
    "ans = ans[ans[\"salary\"] > 1000000]\n",
    "print ans"
   ]
  },
  {
   "cell_type": "code",
   "execution_count": null,
   "metadata": {
    "collapsed": true
   },
   "outputs": [],
   "source": [
    "df_pull.head()"
   ]
  }
 ],
 "metadata": {
  "kernelspec": {
   "display_name": "Python 2",
   "language": "python",
   "name": "python2"
  },
  "language_info": {
   "codemirror_mode": {
    "name": "ipython",
    "version": 2
   },
   "file_extension": ".py",
   "mimetype": "text/x-python",
   "name": "python",
   "nbconvert_exporter": "python",
   "pygments_lexer": "ipython2",
   "version": "2.7.13"
  }
 },
 "nbformat": 4,
 "nbformat_minor": 2
}
