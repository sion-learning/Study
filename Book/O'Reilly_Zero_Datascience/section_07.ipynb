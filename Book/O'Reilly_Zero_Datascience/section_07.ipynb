{
 "cells": [
  {
   "cell_type": "code",
   "execution_count": 5,
   "metadata": {
    "collapsed": true
   },
   "outputs": [],
   "source": [
    "# 7章　仮説と推定\n",
    "\n",
    "# 7.2\n",
    "\n",
    "import math\n",
    "\n",
    "def normal_approximation_to_binomial(n,p):\n",
    "    \"\"\"Binomial(n,p)に相当するμとσを計算する\"\"\"\n",
    "    mu = p * n\n",
    "    sigma = math.sqrt(p * (1 - p) * n)\n",
    "    return mu, sigma\n",
    "\n",
    "def normal_cdf(x, mu=0, sigma=1):\n",
    "    return (1 + math.erf((x - mu) / math.sqrt(2) / sigma)) / 2\n",
    "\n",
    "def inverse_normal_cdf(p, mu=0, sigma=1, tolerance=0.00001):\n",
    "    if mu != 0 or sigma != 1:\n",
    "        return mu + sigma * inverse_normal_cdf(p, tolerance=tolerance)\n",
    "    \n",
    "    low_z, low_p = -10.0, 0\n",
    "    hi_z, hi_p = 10.0, 1\n",
    "    while hi_z - low_z > tolerance:\n",
    "        mid_z = (low_z + hi_z) / 2\n",
    "        mid_p = normal_cdf(mid_z)\n",
    "        if mid_p < p:\n",
    "            low_z, low_p = mid_z, mid_p\n",
    "        elif mid_p > p:\n",
    "            hi_z, hi_p = mid_z, mid_p\n",
    "        else:\n",
    "            break\n",
    "    return mid_z\n",
    "\n",
    "# 変数が閾値を下回る確率はnormal_cdfで表せる\n",
    "normal_probability_below = normal_cdf\n",
    "\n",
    "# 閾値を下回っていなければ、閾値より上にある\n",
    "def normal_probability_above(lo, mu=0, sigma=1):\n",
    "    return 1 - normal_cdf(lo, mu, sigma)\n",
    "\n",
    "# hiより小さく、loより大きければ、値はその間にある\n",
    "def normal_probability_between(lo, hi, mu=0, sigma=1):\n",
    "    return normal_cdf(hi, mu, sigma) - normal_cdf(lo, mu, sigma)\n",
    "\n",
    "# 間に無ければ、範囲外にある\n",
    "def normal_probability_outside(lo, hi, mu=0, sigma=1):\n",
    "    return 1 - normal_probability_between(lo, hi, mu, sigma)\n",
    "\n",
    "# 同じことは逆の手順でも可能。\n",
    "# 例えば平均を中心として60％の確率で発生する領域を求めたければ、上下それぞれの確率が20%の分を取り除けばよい\n",
    "def normal_upper_bound(probability, mu=0, sigma=1):\n",
    "    \"\"\"確率P(Z<=z)となるzを返す\"\"\"\n",
    "    return inverse_normal_cdf(probability, mu, sigma)\n",
    "\n",
    "def normal_lower_bound(probability, mu=0, sigma=1):\n",
    "    \"\"\"確率P(Z>=z)となるzを返す\"\"\"\n",
    "    return inverse_normal_cdf(1 - probability, mu, sigma)\n",
    "\n",
    "def normal_two_sided_bounds(probability, mu=0, sigma=1):\n",
    "    \"\"\"指定された確率を包含する（平均を中心に）対称な境界を返す\"\"\"\n",
    "    tail_probability = (1 - probability) / 2\n",
    "    \n",
    "    # 上側の境界はテイル確率（tail_probability）分、上に\n",
    "    upper_bound = normal_lower_bound(tail_probability, mu, sigma)\n",
    "    \n",
    "    # 下側の境界はテイル確率（tail_probability）分、下に\n",
    "    lower_bound = normal_upper_bound(tail_probability, mu, sigma)\n",
    "    \n",
    "    return lower_bound, upper_bound\n",
    "\n"
   ]
  },
  {
   "cell_type": "code",
   "execution_count": 7,
   "metadata": {},
   "outputs": [
    {
     "name": "stdout",
     "output_type": "stream",
     "text": [
      "500.0 15.811388300841896\n"
     ]
    }
   ],
   "source": [
    "# コイン投げの回数を1000回として、コインに歪みはない（p=0.5）という仮説が真であるならば、\n",
    "# Xは平均が500で分散15.8の正規分布で近似できる。\n",
    "\n",
    "mu_0, sigma_0 = normal_approximation_to_binomial(1000, 0.5)\n",
    "print(mu_0, sigma_0)\n",
    "\n",
    "# 第一種の過誤（偽陽性）をどの程度受け入れるか、いわゆる有意性を決める。ここでは5%とする\n",
    "\n",
    "ans = normal_two_sided_bounds(0.95, mu_0, sigma_0)\n",
    "print(ans)"
   ]
  },
  {
   "cell_type": "code",
   "execution_count": 11,
   "metadata": {},
   "outputs": [
    {
     "name": "stdout",
     "output_type": "stream",
     "text": [
      "469.01026640487555 530.9897335951244\n",
      "550.0 15.732132722552274\n",
      "0.8865480012953671\n"
     ]
    }
   ],
   "source": [
    "# 第二種の過誤が起きない確率について考える。\n",
    "# コインが少しだけ歪んでいて、p=0.55だとしたら？\n",
    "\n",
    "# pが0.5であると想定の元で、95%の境界を確認する\n",
    "lo, hi = normal_two_sided_bounds(0.95, mu_0, sigma_0)\n",
    "print(lo, hi)\n",
    "\n",
    "# p=0.55であった場合の、μとσを計算する\n",
    "mu_1, sigma_1 = normal_approximation_to_binomial(1000, 0.55)\n",
    "print(mu_1, sigma_1)\n",
    "\n",
    "# 第二種過誤とは、帰無仮説を棄却しないという誤りがあり、\n",
    "# Xが当初想定の領域に入っている場合に生じる\n",
    "type_2_probability = normal_probability_between(lo, hi, mu_1, sigma_1)\n",
    "power = 1 - type_2_probability\n",
    "print(power)"
   ]
  },
  {
   "cell_type": "code",
   "execution_count": null,
   "metadata": {
    "collapsed": true
   },
   "outputs": [],
   "source": []
  }
 ],
 "metadata": {
  "kernelspec": {
   "display_name": "Python 3",
   "language": "python",
   "name": "python3"
  },
  "language_info": {
   "codemirror_mode": {
    "name": "ipython",
    "version": 3
   },
   "file_extension": ".py",
   "mimetype": "text/x-python",
   "name": "python",
   "nbconvert_exporter": "python",
   "pygments_lexer": "ipython3",
   "version": "3.6.1"
  }
 },
 "nbformat": 4,
 "nbformat_minor": 2
}
