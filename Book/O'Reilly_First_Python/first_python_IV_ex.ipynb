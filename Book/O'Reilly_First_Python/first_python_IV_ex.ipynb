{
 "cells": [
  {
   "cell_type": "code",
   "execution_count": null,
   "metadata": {
    "collapsed": true
   },
   "outputs": [],
   "source": []
  },
  {
   "cell_type": "code",
   "execution_count": 23,
   "metadata": {
    "collapsed": true
   },
   "outputs": [],
   "source": [
    "def exam(text):\n",
    "    print(text)\n",
    "    return text\n",
    "\n",
    "def adder(x, y):\n",
    "    z = str(x) + str(y)\n",
    "    return z"
   ]
  },
  {
   "cell_type": "code",
   "execution_count": 24,
   "metadata": {},
   "outputs": [
    {
     "name": "stdout",
     "output_type": "stream",
     "text": [
      "test\n",
      "10\n",
      "20\n",
      "['a', 'b', 'c']\n",
      "{'add': 10, 'minus': -20}\n",
      "('lamen', 'yakisoba', 'okonomiyaki')\n"
     ]
    },
    {
     "data": {
      "text/plain": [
       "['test',\n",
       " 10,\n",
       " 20,\n",
       " ['a', 'b', 'c'],\n",
       " {'add': 10, 'minus': -20},\n",
       " ('lamen', 'yakisoba', 'okonomiyaki')]"
      ]
     },
     "execution_count": 24,
     "metadata": {},
     "output_type": "execute_result"
    }
   ],
   "source": [
    "test = [\"test\", 10, 20, [\"a\",\"b\",\"c\"], {\"add\":10, \"minus\":-20}, (\"lamen\",\"yakisoba\",\"okonomiyaki\")]\n",
    "[exam(x) for x in test]"
   ]
  },
  {
   "cell_type": "code",
   "execution_count": 26,
   "metadata": {},
   "outputs": [
    {
     "data": {
      "text/plain": [
       "['test10',\n",
       " '1020',\n",
       " \"20['a', 'b', 'c']\",\n",
       " \"['a', 'b', 'c']{'add': 10, 'minus': -20}\",\n",
       " \"{'add': 10, 'minus': -20}('lamen', 'yakisoba', 'okonomiyaki')\"]"
      ]
     },
     "execution_count": 26,
     "metadata": {},
     "output_type": "execute_result"
    }
   ],
   "source": [
    "[adder(test[x],test[x+1]) for x in range(len(test)) if x < len(test)-1]"
   ]
  },
  {
   "cell_type": "code",
   "execution_count": null,
   "metadata": {
    "collapsed": true
   },
   "outputs": [],
   "source": []
  }
 ],
 "metadata": {
  "kernelspec": {
   "display_name": "Python 3",
   "language": "python",
   "name": "python3"
  },
  "language_info": {
   "codemirror_mode": {
    "name": "ipython",
    "version": 3
   },
   "file_extension": ".py",
   "mimetype": "text/x-python",
   "name": "python",
   "nbconvert_exporter": "python",
   "pygments_lexer": "ipython3",
   "version": "3.6.1"
  }
 },
 "nbformat": 4,
 "nbformat_minor": 2
}
