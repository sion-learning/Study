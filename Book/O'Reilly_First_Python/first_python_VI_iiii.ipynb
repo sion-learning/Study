{
 "cells": [
  {
   "cell_type": "code",
   "execution_count": 1,
   "metadata": {
    "collapsed": true
   },
   "outputs": [],
   "source": [
    "# delegation\n",
    "\n",
    "class Set:\n",
    "    def __init__(self, value = []):\n",
    "        self.data = []\n",
    "        self.concat(value)\n",
    "        \n",
    "    def intersect(self,other):\n",
    "        res = []\n",
    "        for x in self.data:\n",
    "            if x in other:\n",
    "                res.append(x)\n",
    "        return Set(res)\n",
    "    \n",
    "    def union(self,other):\n",
    "        res = self.data[:]\n",
    "        for x in other:\n",
    "            if not x in res:\n",
    "                res.append(x)\n",
    "        return Set(res)\n",
    "    \n",
    "    def concat(self,value):\n",
    "        for x in value:\n",
    "            if not x in self.data:\n",
    "                self.data.append(x)\n",
    "                \n",
    "    def __len__(self):          return len(self.data)\n",
    "    def __getitem__(self, key): return self.data[key]\n",
    "    def __and__(self, other):   return self.intersect(other)\n",
    "    def __or__(self, other):    return self.union(other)\n",
    "    def __repr(self):           return 'Set:' + 'self.data'"
   ]
  },
  {
   "cell_type": "code",
   "execution_count": 2,
   "metadata": {},
   "outputs": [
    {
     "name": "stdout",
     "output_type": "stream",
     "text": [
      "['a', 'b', 'c']\n",
      "['a', 'b', 'c']\n",
      "(indexing ['a', 'b', 'c'] at 1)\n",
      "a\n",
      "(indexing ['a', 'b', 'c'] at 3)\n",
      "c\n",
      "['a', 'b', 'c', 'spam']\n",
      "['spam', 'c', 'b', 'a']\n"
     ]
    }
   ],
   "source": [
    "class MyList(list):\n",
    "    def __getitem__(self, offset):\n",
    "        print('(indexing %s at %s)' % (self, offset))\n",
    "        return list.__getitem__(self, offset - 1)\n",
    "\n",
    "if __name__ == '__main__':\n",
    "    print(list('abc'))\n",
    "    x = MyList('abc')\n",
    "    print(x)\n",
    "    \n",
    "    print(x[1])\n",
    "    print(x[3])\n",
    "    \n",
    "    x.append('spam'); print(x)\n",
    "    x.reverse(); print(x)"
   ]
  },
  {
   "cell_type": "code",
   "execution_count": 1,
   "metadata": {},
   "outputs": [
    {
     "name": "stdout",
     "output_type": "stream",
     "text": [
      "{'_C1__X': 88, '_C2__X': 99}\n",
      "88\n",
      "99\n"
     ]
    }
   ],
   "source": [
    "# name mangling (also called decoration)\n",
    "\n",
    "class C1:\n",
    "    def meth1(self): self.__X = 88\n",
    "    def meth2(self): print(self.__X)\n",
    "        \n",
    "class C2:\n",
    "    def metha(self): self.__X = 99\n",
    "    def methb(self): print(self.__X)\n",
    "\n",
    "class C3(C1, C2): pass\n",
    "I = C3()\n",
    "\n",
    "I.meth1(); I.metha()\n",
    "print(I.__dict__)\n",
    "I.meth2(); I.methb()"
   ]
  },
  {
   "cell_type": "code",
   "execution_count": 2,
   "metadata": {},
   "outputs": [
    {
     "data": {
      "text/plain": [
       "2"
      ]
     },
     "execution_count": 2,
     "metadata": {},
     "output_type": "execute_result"
    }
   ],
   "source": [
    "# diamond inheritance\n",
    "\n",
    "class A     : attr = 1\n",
    "class B(A)  : pass\n",
    "class C(A)  : attr = 2\n",
    "class D(B,C): pass\n",
    "\n",
    "x = D()\n",
    "x.attr"
   ]
  },
  {
   "cell_type": "code",
   "execution_count": 3,
   "metadata": {},
   "outputs": [
    {
     "data": {
      "text/plain": [
       "1"
      ]
     },
     "execution_count": 3,
     "metadata": {},
     "output_type": "execute_result"
    }
   ],
   "source": [
    "class A     : attr = 1\n",
    "class B(A)  : pass\n",
    "class C(A)  : attr = 2\n",
    "class D(B,C): attr = B.attr\n",
    "\n",
    "x = D()\n",
    "x.attr"
   ]
  },
  {
   "cell_type": "code",
   "execution_count": 4,
   "metadata": {},
   "outputs": [
    {
     "ename": "AttributeError",
     "evalue": "age",
     "output_type": "error",
     "traceback": [
      "\u001b[1;31m---------------------------------------------------------------------------\u001b[0m",
      "\u001b[1;31mAttributeError\u001b[0m                            Traceback (most recent call last)",
      "\u001b[1;32m<ipython-input-4-3c1aae1fc1a2>\u001b[0m in \u001b[0;36m<module>\u001b[1;34m()\u001b[0m\n\u001b[0;32m      5\u001b[0m \u001b[1;33m\u001b[0m\u001b[0m\n\u001b[0;32m      6\u001b[0m \u001b[0mx\u001b[0m \u001b[1;33m=\u001b[0m \u001b[0mlimiter\u001b[0m\u001b[1;33m(\u001b[0m\u001b[1;33m)\u001b[0m\u001b[1;33m\u001b[0m\u001b[0m\n\u001b[1;32m----> 7\u001b[1;33m \u001b[0mx\u001b[0m\u001b[1;33m.\u001b[0m\u001b[0mage\u001b[0m\u001b[1;33m\u001b[0m\u001b[0m\n\u001b[0m",
      "\u001b[1;31mAttributeError\u001b[0m: age"
     ]
    }
   ],
   "source": [
    "# static class -> __slots__\n",
    "\n",
    "class limiter:\n",
    "    __slots__ = ['age', 'name', 'job']\n",
    "\n",
    "x = limiter()\n",
    "x.age # <- need number of x before create instance"
   ]
  },
  {
   "cell_type": "code",
   "execution_count": 5,
   "metadata": {},
   "outputs": [
    {
     "data": {
      "text/plain": [
       "40"
      ]
     },
     "execution_count": 5,
     "metadata": {},
     "output_type": "execute_result"
    }
   ],
   "source": [
    "x.age = 40\n",
    "x.age"
   ]
  },
  {
   "cell_type": "code",
   "execution_count": 6,
   "metadata": {},
   "outputs": [
    {
     "ename": "AttributeError",
     "evalue": "'limiter' object has no attribute 'ape'",
     "output_type": "error",
     "traceback": [
      "\u001b[1;31m---------------------------------------------------------------------------\u001b[0m",
      "\u001b[1;31mAttributeError\u001b[0m                            Traceback (most recent call last)",
      "\u001b[1;32m<ipython-input-6-7c70f39c91de>\u001b[0m in \u001b[0;36m<module>\u001b[1;34m()\u001b[0m\n\u001b[1;32m----> 1\u001b[1;33m \u001b[0mx\u001b[0m\u001b[1;33m.\u001b[0m\u001b[0mape\u001b[0m \u001b[1;33m=\u001b[0m \u001b[1;36m1000\u001b[0m \u001b[1;31m# <- no name in slots cannot use in instance\u001b[0m\u001b[1;33m\u001b[0m\u001b[0m\n\u001b[0m",
      "\u001b[1;31mAttributeError\u001b[0m: 'limiter' object has no attribute 'ape'"
     ]
    }
   ],
   "source": [
    "x.ape = 1000 # <- no name in slots cannot use in instance "
   ]
  },
  {
   "cell_type": "code",
   "execution_count": 7,
   "metadata": {},
   "outputs": [
    {
     "data": {
      "text/plain": [
       "40"
      ]
     },
     "execution_count": 7,
     "metadata": {},
     "output_type": "execute_result"
    }
   ],
   "source": [
    "# property\n",
    "\n",
    "class classic:\n",
    "    def __getattr__(self, name):\n",
    "        if name == 'age':\n",
    "            return 40\n",
    "        else:\n",
    "            raise AttributeError\n",
    "\n",
    "x = classic()\n",
    "x.age"
   ]
  },
  {
   "cell_type": "code",
   "execution_count": 8,
   "metadata": {},
   "outputs": [
    {
     "ename": "AttributeError",
     "evalue": "",
     "output_type": "error",
     "traceback": [
      "\u001b[1;31m---------------------------------------------------------------------------\u001b[0m",
      "\u001b[1;31mAttributeError\u001b[0m                            Traceback (most recent call last)",
      "\u001b[1;32m<ipython-input-8-ebfcbb65f7c8>\u001b[0m in \u001b[0;36m<module>\u001b[1;34m()\u001b[0m\n\u001b[1;32m----> 1\u001b[1;33m \u001b[0mx\u001b[0m\u001b[1;33m.\u001b[0m\u001b[0mname\u001b[0m\u001b[1;33m\u001b[0m\u001b[0m\n\u001b[0m",
      "\u001b[1;32m<ipython-input-7-f69b0e8ffb63>\u001b[0m in \u001b[0;36m__getattr__\u001b[1;34m(self, name)\u001b[0m\n\u001b[0;32m      6\u001b[0m             \u001b[1;32mreturn\u001b[0m \u001b[1;36m40\u001b[0m\u001b[1;33m\u001b[0m\u001b[0m\n\u001b[0;32m      7\u001b[0m         \u001b[1;32melse\u001b[0m\u001b[1;33m:\u001b[0m\u001b[1;33m\u001b[0m\u001b[0m\n\u001b[1;32m----> 8\u001b[1;33m             \u001b[1;32mraise\u001b[0m \u001b[0mAttributeError\u001b[0m\u001b[1;33m\u001b[0m\u001b[0m\n\u001b[0m\u001b[0;32m      9\u001b[0m \u001b[1;33m\u001b[0m\u001b[0m\n\u001b[0;32m     10\u001b[0m \u001b[0mx\u001b[0m \u001b[1;33m=\u001b[0m \u001b[0mclassic\u001b[0m\u001b[1;33m(\u001b[0m\u001b[1;33m)\u001b[0m\u001b[1;33m\u001b[0m\u001b[0m\n",
      "\u001b[1;31mAttributeError\u001b[0m: "
     ]
    }
   ],
   "source": [
    "x.name"
   ]
  },
  {
   "cell_type": "code",
   "execution_count": 14,
   "metadata": {},
   "outputs": [
    {
     "data": {
      "text/plain": [
       "40"
      ]
     },
     "execution_count": 14,
     "metadata": {},
     "output_type": "execute_result"
    }
   ],
   "source": [
    "class newprops:\n",
    "    def getage(self):\n",
    "        return 40\n",
    "    age = property(getage, None, None, None)\n",
    "    \n",
    "x = newprops()\n",
    "x.age"
   ]
  },
  {
   "cell_type": "code",
   "execution_count": 15,
   "metadata": {},
   "outputs": [
    {
     "ename": "AttributeError",
     "evalue": "'newprops' object has no attribute 'name'",
     "output_type": "error",
     "traceback": [
      "\u001b[1;31m---------------------------------------------------------------------------\u001b[0m",
      "\u001b[1;31mAttributeError\u001b[0m                            Traceback (most recent call last)",
      "\u001b[1;32m<ipython-input-15-ebfcbb65f7c8>\u001b[0m in \u001b[0;36m<module>\u001b[1;34m()\u001b[0m\n\u001b[1;32m----> 1\u001b[1;33m \u001b[0mx\u001b[0m\u001b[1;33m.\u001b[0m\u001b[0mname\u001b[0m\u001b[1;33m\u001b[0m\u001b[0m\n\u001b[0m",
      "\u001b[1;31mAttributeError\u001b[0m: 'newprops' object has no attribute 'name'"
     ]
    }
   ],
   "source": [
    "x.name"
   ]
  },
  {
   "cell_type": "code",
   "execution_count": 16,
   "metadata": {},
   "outputs": [
    {
     "name": "stdout",
     "output_type": "stream",
     "text": [
      "Number of instances created:  3\n"
     ]
    }
   ],
   "source": [
    "# method\n",
    "\n",
    "class Spam:\n",
    "    numInstances = 0\n",
    "    def __init__(self):\n",
    "        Spam.numInstances = Spam.numInstances + 1\n",
    "    def printNumInstances():\n",
    "        print(\"Number of instances created: \", Spam.numInstances)\n",
    "\n",
    "a = Spam()\n",
    "b = Spam()\n",
    "c = Spam()\n",
    "Spam.printNumInstances()"
   ]
  },
  {
   "cell_type": "code",
   "execution_count": 18,
   "metadata": {},
   "outputs": [
    {
     "name": "stdout",
     "output_type": "stream",
     "text": [
      "<__main__.Multi object at 0x000002524DAE09B0> 1\n"
     ]
    }
   ],
   "source": [
    "# static method and class method\n",
    "\n",
    "class Multi:\n",
    "    def imeth(self, x):\n",
    "        print(self, x)\n",
    "    @staticmethod\n",
    "    def smeth(x):\n",
    "        print(x)\n",
    "    @classmethod\n",
    "    def cmeth(cls, x):\n",
    "        print(cls, x)\n",
    "        \n",
    "obj = Multi()\n",
    "obj.imeth(1)"
   ]
  },
  {
   "cell_type": "code",
   "execution_count": 19,
   "metadata": {},
   "outputs": [
    {
     "name": "stdout",
     "output_type": "stream",
     "text": [
      "<__main__.Multi object at 0x000002524DAE09B0> 2\n"
     ]
    }
   ],
   "source": [
    "Multi.imeth(obj, 2)"
   ]
  },
  {
   "cell_type": "code",
   "execution_count": 20,
   "metadata": {},
   "outputs": [
    {
     "name": "stdout",
     "output_type": "stream",
     "text": [
      "3\n"
     ]
    }
   ],
   "source": [
    "Multi.smeth(3)"
   ]
  },
  {
   "cell_type": "code",
   "execution_count": 21,
   "metadata": {},
   "outputs": [
    {
     "name": "stdout",
     "output_type": "stream",
     "text": [
      "4\n"
     ]
    }
   ],
   "source": [
    "obj.smeth(4)"
   ]
  },
  {
   "cell_type": "code",
   "execution_count": 22,
   "metadata": {},
   "outputs": [
    {
     "name": "stdout",
     "output_type": "stream",
     "text": [
      "<class '__main__.Multi'> 5\n"
     ]
    }
   ],
   "source": [
    "Multi.cmeth(5)"
   ]
  },
  {
   "cell_type": "code",
   "execution_count": 23,
   "metadata": {},
   "outputs": [
    {
     "name": "stdout",
     "output_type": "stream",
     "text": [
      "<class '__main__.Multi'> 6\n"
     ]
    }
   ],
   "source": [
    "obj.cmeth(6)"
   ]
  },
  {
   "cell_type": "code",
   "execution_count": 3,
   "metadata": {},
   "outputs": [
    {
     "name": "stdout",
     "output_type": "stream",
     "text": [
      "call 1 to spam\n",
      "1 2 3\n",
      "call 2 to spam\n",
      "a b c\n",
      "call 3 to spam\n",
      "4 5 6\n"
     ]
    }
   ],
   "source": [
    "# function decorator\n",
    "\n",
    "class tracer:\n",
    "    def __init__(self, func):\n",
    "        self.calls = 0\n",
    "        self.func = func\n",
    "    def __call__(self, *args):\n",
    "        self.calls += 1\n",
    "        print('call %s to %s' % (self.calls, self.func.__name__))\n",
    "        self.func(*args)\n",
    "        \n",
    "@tracer\n",
    "def spam(a, b, c):\n",
    "    print(a,b,c)\n",
    "    \n",
    "spam(1,2,3)\n",
    "spam('a','b','c')\n",
    "spam(4,5,6)"
   ]
  },
  {
   "cell_type": "code",
   "execution_count": 4,
   "metadata": {},
   "outputs": [
    {
     "name": "stdout",
     "output_type": "stream",
     "text": [
      "1\n",
      "1\n"
     ]
    }
   ],
   "source": [
    "# sideeffect of class change\n",
    "\n",
    "class X:\n",
    "    a = 1\n",
    "    \n",
    "I = X()\n",
    "print(I.a)\n",
    "print(X.a)"
   ]
  },
  {
   "cell_type": "code",
   "execution_count": 5,
   "metadata": {},
   "outputs": [
    {
     "name": "stdout",
     "output_type": "stream",
     "text": [
      "2\n",
      "2\n"
     ]
    }
   ],
   "source": [
    "X.a = 2\n",
    "print(I.a)\n",
    "J = X()\n",
    "print(J.a)"
   ]
  },
  {
   "cell_type": "code",
   "execution_count": 7,
   "metadata": {},
   "outputs": [
    {
     "name": "stdout",
     "output_type": "stream",
     "text": [
      "0\n",
      "1\n",
      "2\n",
      "3\n",
      "4\n",
      "5\n"
     ]
    }
   ],
   "source": [
    "class X: pass\n",
    "class Y: pass\n",
    "\n",
    "X.a = 1\n",
    "X.b = 2\n",
    "X.c = 3\n",
    "Y.a = X.a + X.b + X.c\n",
    "\n",
    "for X.i in range(Y.a): print(X.i)"
   ]
  },
  {
   "cell_type": "code",
   "execution_count": null,
   "metadata": {
    "collapsed": true
   },
   "outputs": [],
   "source": []
  }
 ],
 "metadata": {
  "kernelspec": {
   "display_name": "Python 3",
   "language": "python",
   "name": "python3"
  },
  "language_info": {
   "codemirror_mode": {
    "name": "ipython",
    "version": 3
   },
   "file_extension": ".py",
   "mimetype": "text/x-python",
   "name": "python",
   "nbconvert_exporter": "python",
   "pygments_lexer": "ipython3",
   "version": "3.6.1"
  }
 },
 "nbformat": 4,
 "nbformat_minor": 2
}
