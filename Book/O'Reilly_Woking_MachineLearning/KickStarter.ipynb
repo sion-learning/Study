{
 "cells": [
  {
   "cell_type": "code",
   "execution_count": 1,
   "metadata": {},
   "outputs": [],
   "source": [
    "import urllib.request\n",
    "import json\n",
    "import os\n",
    "import time\n",
    "\n",
    "os.makedirs('result', exist_ok=True)\n",
    "\n",
    "search_term = \"\"\n",
    "sort_key = 'newest'\n",
    "category_list = [16,331,332,333,334,335,336,337,52,362,338,51,339,340,341,342] # technology category\n",
    "query_base = \"https://www.kickstarter.com/projects/search.json?term=%s&category_id=%d&page=%d&sort=%s\"\n",
    "\n",
    "def get_json_data(search_term, sort_key, category_list, query_base):\n",
    "    for category_id in category_list:\n",
    "        for page_id in range(1,201):\n",
    "            try:\n",
    "                query = query_base % (search_term, category_id, page_id, sort_key)\n",
    "                print(query)\n",
    "                data = urllib.request.urlopen(query).read().decode(\"utf-8\")\n",
    "                response_json = json.loads(data)\n",
    "            except:\n",
    "                break\n",
    "\n",
    "            # 1ページあたり、20件の結果が返ってくるので、1件ずつ保存する\n",
    "            for project in response_json[\"projects\"]:\n",
    "                filepath = \"result/%d.json\" % project[\"id\"]\n",
    "                fp = open(filepath, \"w\")\n",
    "                fp.write(json.dumps(project, sort_keys=True, indent=2))\n",
    "                fp.close()\n",
    "\n",
    "            # 1アクセスごとに1秒のウェイトを入れることで、過剰アクセスを防止\n",
    "            time.sleep(1)\n",
    "            \n",
    "# get_json_data(search_term, sort_key, category_list, query_base)\n",
    "# かなり時間が掛かるので動かさない時はコメントアウト"
   ]
  },
  {
   "cell_type": "code",
   "execution_count": 3,
   "metadata": {},
   "outputs": [],
   "source": [
    "import glob\n",
    "import json\n",
    "import pandas\n",
    "import pandas.io.json\n",
    "\n",
    "# globでresultフォルダにあるファイルを走査して読み込む\n",
    "project_list = [ json.loads(open(filename).read()) for filename in glob.glob(\"result/*.json\") ]\n",
    "\n",
    "# json_normalizeを使ってDataFrameに変換する\n",
    "df = pandas.io.json.json_normalize(project_list)\n",
    "\n",
    "# 末尾が\"_at\"で終わるunixtimeのカラムをdatetimeに変換する\n",
    "datetime_columns = filter(lambda a: a[-3:] == \"_at\", df.columns)\n",
    "for column in datetime_columns:\n",
    "    df[column] = pandas.to_datetime(df[column], unit=\"s\")\n",
    "\n",
    "# DataFrameからCSV形式のstrに変換する\n",
    "csv_data = df.to_csv()\n",
    "\n",
    "# windowsのExcelに読み込ませるので、CP932にする\n",
    "csv_data = csv_data.encode(\"cp932\", \"ignore\")\n",
    "\n",
    "\n",
    "# 結果を書き込む\n",
    "fp = open(\"kickstarter_result.csv\", \"wb\")\n",
    "fp.write(csv_data)\n",
    "fp.close()"
   ]
  },
  {
   "cell_type": "code",
   "execution_count": null,
   "metadata": {
    "collapsed": true
   },
   "outputs": [],
   "source": []
  }
 ],
 "metadata": {
  "kernelspec": {
   "display_name": "Python 3",
   "language": "python",
   "name": "python3"
  },
  "language_info": {
   "codemirror_mode": {
    "name": "ipython",
    "version": 3
   },
   "file_extension": ".py",
   "mimetype": "text/x-python",
   "name": "python",
   "nbconvert_exporter": "python",
   "pygments_lexer": "ipython3",
   "version": "3.6.1"
  }
 },
 "nbformat": 4,
 "nbformat_minor": 2
}
