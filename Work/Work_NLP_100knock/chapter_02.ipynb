{
 "cells": [
  {
   "cell_type": "code",
   "execution_count": 1,
   "metadata": {
    "collapsed": true
   },
   "outputs": [],
   "source": [
    "#第2章：UNIXコマンドの基礎\n",
    "import codecs\n",
    "fname = './input/hightemp.txt'"
   ]
  },
  {
   "cell_type": "code",
   "execution_count": 2,
   "metadata": {},
   "outputs": [
    {
     "name": "stdout",
     "output_type": "stream",
     "text": [
      "24\n"
     ]
    }
   ],
   "source": [
    "#10\n",
    "with codecs.open(fname, 'r', 'utf_8') as ht:\n",
    "    print(len([ line for line in ht ]))\n",
    "        \n",
    "#　文字コードの問題でファイルが読み込めない場合があるので、\n",
    "#　今回の設問の場合は、事前にcodecをインポートして対応することにしました。\n",
    "#　参照：http://osksn2.hep.sci.osaka-u.ac.jp/~taku/osx/python/encoding.html"
   ]
  },
  {
   "cell_type": "code",
   "execution_count": 4,
   "metadata": {},
   "outputs": [],
   "source": [
    "#11\n",
    "with codecs.open(fname, 'r', 'utf_8') as ht:\n",
    "    for line in ht:\n",
    "        ln = line.replace('\\t', ' ')\n",
    "        #print(ln)"
   ]
  },
  {
   "cell_type": "code",
   "execution_count": 4,
   "metadata": {
    "collapsed": true
   },
   "outputs": [],
   "source": [
    "#12\n",
    "def doc_read():\n",
    "    \"\"\"\n",
    "    必要なカラムを抽出する処理。\n",
    "    \"\"\"\n",
    "    with codecs.open(fname, 'r', 'utf_8') as ht:\n",
    "        lines = [ line.strip('\\n').split('\\t') for line in ht ]\n",
    "    return lines\n",
    "\n",
    "def create_col(path, doc, num):\n",
    "    \"\"\"\n",
    "    抽出したカラムをファイルに書き出す処理。\n",
    "    \"\"\"\n",
    "    data = [ln[num] for ln in doc]\n",
    "    doc_col = \"\\n\".join(data)\n",
    "    with codecs.open(path, 'w', 'utf_8') as cd:\n",
    "        cd.write(doc_col)\n",
    "\n",
    "create_col('./output/col1.txt', doc_read(), 0)\n",
    "create_col('./output/col2.txt', doc_read(), 1)"
   ]
  },
  {
   "cell_type": "code",
   "execution_count": 5,
   "metadata": {
    "collapsed": true
   },
   "outputs": [],
   "source": [
    "#13\n",
    "def doc_read(path):\n",
    "    \"\"\"\n",
    "    ドキュメントを読み込む処理。\n",
    "    \"\"\"\n",
    "    cols = []\n",
    "    for pt in path:\n",
    "        with codecs.open(pt, 'r', 'utf_8') as ht:\n",
    "            lines = [ line.strip('\\n') for line in ht ]\n",
    "        cols.append(lines)\n",
    "    return merge_col(cols)\n",
    "\n",
    "def merge_col(cols):\n",
    "    \"\"\"\n",
    "    ドキュメントをマージする処理。\n",
    "    \"\"\"\n",
    "    length = len(cols[0])\n",
    "    for i in range(len(cols)):\n",
    "        doc_lines = [ cols[0][i] + '\\t' + cols[1][i] for i in range(length) ]\n",
    "        doc = \"\\n\".join(doc_lines)\n",
    "    return create_txt(doc)\n",
    "\n",
    "def create_txt(doc):\n",
    "    \"\"\"\n",
    "    ドキュメントを書き出す処理。\n",
    "    \"\"\"\n",
    "    with codecs.open('./output/merge.txt', 'w', 'utf_8') as cd:\n",
    "        cd.write(doc)\n",
    "    return None\n",
    "\n",
    "read_path = ['./output/col1.txt', './output/col2.txt']\n",
    "    \n",
    "doc_read(read_path)\n",
    "\n",
    "#　ここはあんまり上手く書けなかった……後日リベンジするかも。"
   ]
  },
  {
   "cell_type": "code",
   "execution_count": 6,
   "metadata": {},
   "outputs": [
    {
     "name": "stdout",
     "output_type": "stream",
     "text": [
      "3\n",
      "高知県\t江川崎\t41\t2013-08-12\n",
      "\n",
      "埼玉県\t熊谷\t40.9\t2007-08-16\n",
      "\n",
      "岐阜県\t多治見\t40.9\t2007-08-16\n",
      "\n"
     ]
    }
   ],
   "source": [
    "#14\n",
    "import re\n",
    "\n",
    "def input_num():\n",
    "    \"\"\"\n",
    "    数字を入力する処理。自然数以外の場合は再度入力を受け付ける。\n",
    "    \"\"\"\n",
    "    while 1:\n",
    "        num = input()\n",
    "        if re.match('^[0-9]+$', num) and int(num) > 0:\n",
    "            break\n",
    "        else:\n",
    "            continue\n",
    "    return output_lines((int(num)), doc_read())\n",
    "\n",
    "def doc_read():\n",
    "    \"\"\"\n",
    "    ドキュメントを読み込む処理。\n",
    "    \"\"\"\n",
    "    with codecs.open(fname, 'r', 'utf_8') as ht:\n",
    "        lines = [ line for line in ht ]\n",
    "    return lines\n",
    "\n",
    "def output_lines(num, lines):\n",
    "    \"\"\"\n",
    "    先頭からN行を出力する処理。\n",
    "    \"\"\"\n",
    "    i = 0\n",
    "    for line in lines:\n",
    "        print(\"\".join(line))\n",
    "        i = i + 1\n",
    "        if i >= num:\n",
    "            break\n",
    "        else:\n",
    "            continue\n",
    "                \n",
    "input_num()"
   ]
  },
  {
   "cell_type": "code",
   "execution_count": 7,
   "metadata": {},
   "outputs": [
    {
     "name": "stdout",
     "output_type": "stream",
     "text": [
      "3\n",
      "愛知県\t名古屋\t39.9\t1942-08-02\n",
      "\n",
      "山形県\t鶴岡\t39.9\t1978-08-03\n",
      "\n",
      "山梨県\t大月\t39.9\t1990-07-19\n",
      "\n"
     ]
    }
   ],
   "source": [
    "#15\n",
    "import re\n",
    "\n",
    "def input_num():\n",
    "    \"\"\"\n",
    "    数字を入力する処理。自然数以外の場合は再度入力を受け付ける。\n",
    "    \"\"\"\n",
    "    while 1:\n",
    "        num = input()\n",
    "        if re.match('^[0-9]+$', num) and int(num) > 0:\n",
    "            break\n",
    "        else:\n",
    "            continue\n",
    "    return output_lines(int(num), doc_reverse())\n",
    "\n",
    "def doc_reverse():\n",
    "    \"\"\"\n",
    "    ドキュメントを読み込む処理。末尾なので逆順を返すようにする。#14と見比べてみて下さい。\n",
    "    \"\"\"\n",
    "    with codecs.open(fname, 'r', 'utf_8') as ht:\n",
    "        lines = [ line for line in ht ]\n",
    "    return lines[::-1]\n",
    "\n",
    "def output_lines(num, lines):\n",
    "    \"\"\"\n",
    "    先頭からN行を出力する処理。\n",
    "    \"\"\"\n",
    "    i = 0\n",
    "    for line in lines:\n",
    "        print(\"\".join(line))\n",
    "        i = i + 1\n",
    "        if i >= num:\n",
    "            break\n",
    "        else:\n",
    "            continue\n",
    "\n",
    "input_num()"
   ]
  },
  {
   "cell_type": "code",
   "execution_count": 14,
   "metadata": {},
   "outputs": [
    {
     "name": "stdout",
     "output_type": "stream",
     "text": [
      "9\n"
     ]
    }
   ],
   "source": [
    "#16\n",
    "import re\n",
    "\n",
    "def input_num():\n",
    "    \"\"\"\n",
    "    数字を入力する処理。自然数以外の場合は再度入力を受け付ける。\n",
    "    \"\"\"\n",
    "    while 1:\n",
    "        num = input()\n",
    "        if re.match('^[0-9]+$', num) and int(num) > 0:\n",
    "            break\n",
    "        else:\n",
    "            continue\n",
    "    return doc_read(int(num))\n",
    "\n",
    "def doc_read(num):\n",
    "    \"\"\"\n",
    "    ドキュメントを読み込む処理。\n",
    "    \"\"\"\n",
    "    with codecs.open(fname, 'r', 'utf_8') as ht:\n",
    "        lines = [ line for line in ht ]\n",
    "    return part_num(lines, len(lines), num)\n",
    "\n",
    "def part_num(lines, length, num):\n",
    "    \"\"\"\n",
    "    行数をできるだけ均等になるようにN分割しリストを返す処理。\n",
    "    \"\"\"\n",
    "    split_num = [ (length + i) // num for i in range(num) ]\n",
    "    return split_file(lines, list(reversed(split_num)))\n",
    "\n",
    "#　整数をできるだけ均等になるようにN分割\n",
    "#　参考：https://qiita.com/keisuke-nakata/items/c18cda4ded06d3159109\n",
    "\n",
    "#　リストの逆順を取得する\n",
    "#　参考：https://www.python-izm.com/advanced/reverse/\n",
    "\n",
    "def split_file(lines, numbers):\n",
    "    \"\"\"\n",
    "    ドキュメントをN分割し、つどファイルを出力する処理。\n",
    "    \"\"\"\n",
    "    n = 0\n",
    "    counter = 0\n",
    "    for num in numbers:\n",
    "        ln = []\n",
    "        for i in range(n, num+n):\n",
    "            ln.append(lines[i])\n",
    "        with codecs.open(\"./output/file_split{}.txt\".format(counter), 'w', 'utf_8') as fs:\n",
    "            fs.write(\"\".join(ln))\n",
    "        n = n + num\n",
    "        counter = counter + 1\n",
    "\n",
    "input_num()\n",
    "\n",
    "#　x行をn分割したとき、余りが出てしまった場合の処理を考える必要があります。\n",
    "#　qiitaでよく見る方法は行数÷分割数の商を端数切り上げで処理していますが、これはNGだと思います。\n",
    "#　例えば本問のように24行のとき……\n",
    "#　5分割の場合　＞　[5,5,5,5,4]になるのでOKに見える\n",
    "#　9分割の場合　＞　[3,3,3,3,3,3,3,3,0]となり9ファイル目に割り当てる行がなくなりNG\n",
    "#　なので、端数を適宜割り振ってからリスト化して運用した方がいいと思います。"
   ]
  },
  {
   "cell_type": "code",
   "execution_count": 31,
   "metadata": {},
   "outputs": [
    {
     "name": "stdout",
     "output_type": "stream",
     "text": [
      "{'和歌山県', '岐阜県', '山形県', '埼玉県', '千葉県', '愛知県', '群馬県', '山梨県', '大阪府', '静岡県', '愛媛県', '高知県'}\n"
     ]
    }
   ],
   "source": [
    "#17\n",
    "\n",
    "#　for文で回す場合\n",
    "\n",
    "#lines = []\n",
    "#with codecs.open(fname, 'r', 'utf_8') as ht:\n",
    "#    for line in ht:\n",
    "#        lines.append(line.split('\\t')[0])\n",
    "#\n",
    "#print(set(lines))\n",
    "\n",
    "#　内包表記で回す場合\n",
    "\n",
    "with codecs.open(fname, 'r', 'utf_8') as ht:\n",
    "    print(set([ line.split('\\t')[0] for line in ht ]))\n",
    "\n",
    "#　可読性がわりと死にますが内包表記だと1行で済みます。"
   ]
  },
  {
   "cell_type": "code",
   "execution_count": 39,
   "metadata": {},
   "outputs": [
    {
     "name": "stdout",
     "output_type": "stream",
     "text": [
      "高知県\t江川崎\t41\t2013-08-12\n",
      "\n",
      "埼玉県\t熊谷\t40.9\t2007-08-16\n",
      "\n",
      "岐阜県\t多治見\t40.9\t2007-08-16\n",
      "\n",
      "山形県\t山形\t40.8\t1933-07-25\n",
      "\n",
      "山梨県\t甲府\t40.7\t2013-08-10\n",
      "\n",
      "和歌山県\tかつらぎ\t40.6\t1994-08-08\n",
      "\n",
      "静岡県\t天竜\t40.6\t1994-08-04\n",
      "\n",
      "山梨県\t勝沼\t40.5\t2013-08-10\n",
      "\n",
      "埼玉県\t越谷\t40.4\t2007-08-16\n",
      "\n",
      "群馬県\t館林\t40.3\t2007-08-16\n",
      "\n",
      "群馬県\t上里見\t40.3\t1998-07-04\n",
      "\n",
      "愛知県\t愛西\t40.3\t1994-08-05\n",
      "\n",
      "千葉県\t牛久\t40.2\t2004-07-20\n",
      "\n",
      "静岡県\t佐久間\t40.2\t2001-07-24\n",
      "\n",
      "愛媛県\t宇和島\t40.2\t1927-07-22\n",
      "\n",
      "山形県\t酒田\t40.1\t1978-08-03\n",
      "\n",
      "岐阜県\t美濃\t40\t2007-08-16\n",
      "\n",
      "群馬県\t前橋\t40\t2001-07-24\n",
      "\n",
      "千葉県\t茂原\t39.9\t2013-08-11\n",
      "\n",
      "埼玉県\t鳩山\t39.9\t1997-07-05\n",
      "\n",
      "大阪府\t豊中\t39.9\t1994-08-08\n",
      "\n",
      "山梨県\t大月\t39.9\t1990-07-19\n",
      "\n",
      "山形県\t鶴岡\t39.9\t1978-08-03\n",
      "\n",
      "愛知県\t名古屋\t39.9\t1942-08-02\n",
      "\n"
     ]
    }
   ],
   "source": [
    "#18\n",
    "\n",
    "# ラムダ式\n",
    "with codecs.open(fname, 'r', 'utf_8') as ht:\n",
    "    lines = ht.readlines()\n",
    "    lines.sort(key=lambda line: float(line.split('\\t')[2]), reverse=True)\n",
    "\n",
    "for line in lines:\n",
    "    print(line)"
   ]
  },
  {
   "cell_type": "code",
   "execution_count": 61,
   "metadata": {},
   "outputs": [
    {
     "name": "stdout",
     "output_type": "stream",
     "text": [
      "('埼玉県', 3)\n",
      "('山形県', 3)\n",
      "('山梨県', 3)\n",
      "('群馬県', 3)\n",
      "('岐阜県', 2)\n",
      "('静岡県', 2)\n",
      "('愛知県', 2)\n",
      "('千葉県', 2)\n",
      "('高知県', 1)\n",
      "('和歌山県', 1)\n",
      "('愛媛県', 1)\n",
      "('大阪府', 1)\n"
     ]
    }
   ],
   "source": [
    "#19\n",
    "\n",
    "def read_file():\n",
    "    \"\"\"\n",
    "    ドキュメントを読み込んで、1列目だけを抽出する処理。\n",
    "    \"\"\"\n",
    "    with codecs.open(fname, 'r', 'utf_8') as ht:\n",
    "        lines = [ line.split('\\t')[0] for line in ht ]\n",
    "    return create_dict(lines)\n",
    "\n",
    "def create_dict(lines):\n",
    "    \"\"\"\n",
    "    dict型に変換しつつ、1列目の文字列の出現頻度を求める処理。\n",
    "    \"\"\"\n",
    "    words = {}\n",
    "    for line in lines:\n",
    "        if line in words:\n",
    "            words[line] += 1\n",
    "        else:\n",
    "            words[line] = 1\n",
    "    \n",
    "    return sort_dict(words)\n",
    "\n",
    "def sort_dict(words):\n",
    "    \"\"\"\n",
    "    出現頻度を降順にソートする処理。\n",
    "    \"\"\"\n",
    "    words_sorted = sorted(words.items(), key=lambda x: x[1], reverse=True)\n",
    "    return output(words_sorted)\n",
    "\n",
    "def output(words):\n",
    "    \"\"\"\n",
    "    得られた結果を出力する処理。\n",
    "    \"\"\"\n",
    "    for entry in words:\n",
    "        print(entry)\n",
    "    return None\n",
    "        \n",
    "read_file()"
   ]
  },
  {
   "cell_type": "code",
   "execution_count": null,
   "metadata": {
    "collapsed": true
   },
   "outputs": [],
   "source": []
  }
 ],
 "metadata": {
  "kernelspec": {
   "display_name": "Python 3",
   "language": "python",
   "name": "python3"
  },
  "language_info": {
   "codemirror_mode": {
    "name": "ipython",
    "version": 3
   },
   "file_extension": ".py",
   "mimetype": "text/x-python",
   "name": "python",
   "nbconvert_exporter": "python",
   "pygments_lexer": "ipython3",
   "version": "3.6.1"
  }
 },
 "nbformat": 4,
 "nbformat_minor": 2
}
