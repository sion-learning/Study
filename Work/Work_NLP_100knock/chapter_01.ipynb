{
 "cells": [
  {
   "cell_type": "code",
   "execution_count": null,
   "metadata": {
    "collapsed": true
   },
   "outputs": [],
   "source": [
    "#第1章：準備運動"
   ]
  },
  {
   "cell_type": "code",
   "execution_count": 3,
   "metadata": {},
   "outputs": [
    {
     "name": "stdout",
     "output_type": "stream",
     "text": [
      "desserts\n"
     ]
    }
   ],
   "source": [
    "# 00\n",
    "word = \"stressed\"\n",
    "ans = word[::-1]\n",
    "print(ans)"
   ]
  },
  {
   "cell_type": "code",
   "execution_count": 4,
   "metadata": {},
   "outputs": [
    {
     "name": "stdout",
     "output_type": "stream",
     "text": [
      "パトカー\n"
     ]
    }
   ],
   "source": [
    "# 01\n",
    "word = \"パタトクカシーー\"\n",
    "ans = word[0] + word[2] + word[4] + word[6]\n",
    "print(ans)"
   ]
  },
  {
   "cell_type": "code",
   "execution_count": 11,
   "metadata": {},
   "outputs": [
    {
     "name": "stdout",
     "output_type": "stream",
     "text": [
      "パタトクカシーー\n"
     ]
    }
   ],
   "source": [
    "# 02\n",
    "pat = \"パトカー\"\n",
    "tax = \"タクシー\"\n",
    "lis = []\n",
    "for i in range(len(pat)):\n",
    "    lis.append(pat[i])\n",
    "    lis.append(tax[i])\n",
    "ans = \"\".join(lis)\n",
    "print(ans)"
   ]
  },
  {
   "cell_type": "code",
   "execution_count": 48,
   "metadata": {},
   "outputs": [
    {
     "name": "stdout",
     "output_type": "stream",
     "text": [
      "[3, 1, 4, 1, 5, 9, 2, 6, 5, 3, 5, 8, 9, 7, 9]\n"
     ]
    }
   ],
   "source": [
    "# 03\n",
    "sentence = \"Now I need a drink, alcoholic of course, after the heavy lectures involving quantum mechanics.\"\n",
    "words = sentence.replace(',', '').replace('.', '').split(' ')\n",
    "\n",
    "#words_num = []\n",
    "#for word in words:\n",
    "#    words_num.append(len(word))\n",
    "#print(words_num)\n",
    "\n",
    "words_num = [len(word) for word in words]\n",
    "print(words_num)"
   ]
  },
  {
   "cell_type": "code",
   "execution_count": 47,
   "metadata": {},
   "outputs": [
    {
     "name": "stdout",
     "output_type": "stream",
     "text": [
      "{'H': 1, 'He': 2, 'Li': 3, 'Be': 4, 'B': 5, 'C': 6, 'N': 7, 'O': 8, 'F': 9, 'Ne': 10, 'Na': 11, 'Mi': 12, 'Al': 13, 'Si': 14, 'P': 15, 'S': 16, 'Cl': 17, 'Ar': 18, 'K': 19, 'Ca': 20}\n"
     ]
    }
   ],
   "source": [
    "# 04\n",
    "sentence = \"Hi He Lied Because Boron Could Not Oxidize Fluorine. New Nations Might Also Sign Peace Security Clause. Arthur King Can.\"\n",
    "words = sentence.replace('.', '').split(' ')\n",
    "place = [1,0,0,0,5,6,7,8,9,0,0,0,0,0,15,16,0,0,19,0]\n",
    "\n",
    "#element = []\n",
    "#for i in range(len(words)):\n",
    "#    if place[i] is i+1:\n",
    "#        element.append(words[i][:1])\n",
    "#    else:\n",
    "#        element.append(words[i][:2])\n",
    "        \n",
    "element = [ words[i][:1] if place[i] is i+1 else words[i][:2] for i in range(len(words)) ]\n",
    "\n",
    "element_dict = {}\n",
    "for i in range(len(element)):\n",
    "    elem = element[i]\n",
    "    element_dict[elem] = i + 1\n",
    "\n",
    "print(element_dict)"
   ]
  },
  {
   "cell_type": "code",
   "execution_count": 71,
   "metadata": {},
   "outputs": [
    {
     "name": "stdout",
     "output_type": "stream",
     "text": [
      "単語bi-gram {\"['I', 'am']\": 1, \"['am', 'an']\": 1, \"['an', 'NLPer']\": 1}\n",
      "文字bi-gram {'I ': 1, ' a': 2, 'am': 1, 'm ': 1, 'an': 1, 'n ': 1, ' N': 1, 'NL': 1, 'LP': 1, 'Pe': 1, 'er': 1}\n"
     ]
    }
   ],
   "source": [
    "# 05\n",
    "def NGram(seq, n=2):\n",
    "    word_result = {}\n",
    "    for i in range(len(seq)-n+1):\n",
    "        key = str(seq[i:i+n])\n",
    "        if key in word_result:\n",
    "            word_result[key] += 1\n",
    "        else:\n",
    "            word_result[key] = 1\n",
    "    return word_result\n",
    "\n",
    "sentence = \"I am an NLPer\"\n",
    "ans1 = NGram(sentence.split(' '))\n",
    "ans2 = NGram(sentence)\n",
    "\n",
    "print(\"単語bi-gram\", ans1)\n",
    "print(\"文字bi-gram\", ans2)"
   ]
  },
  {
   "cell_type": "code",
   "execution_count": 72,
   "metadata": {},
   "outputs": [
    {
     "name": "stdout",
     "output_type": "stream",
     "text": [
      "和集合 {'ar', 'ad', 'gr', 'di', 'ph', 'ap', 'ag', 'se', 'pa', 'ra', 'is'}\n",
      "積集合 {'ra', 'ar', 'ap', 'pa'}\n",
      "差集合 {'di', 'se', 'ad', 'is'}\n",
      "seがXかYに含まれる？ True\n"
     ]
    }
   ],
   "source": [
    "# 06\n",
    "words = [\"paraparaparadise\", \"paragraph\"]\n",
    "\n",
    "X = set(NGram(words[0]))\n",
    "Y = set(NGram(words[1]))\n",
    "\n",
    "print(\"和集合\", X|Y)\n",
    "print(\"積集合\", X&Y)\n",
    "print(\"差集合\", X-Y)\n",
    "\n",
    "print(\"seがXかYに含まれる？\", str('se' in X|Y))"
   ]
  },
  {
   "cell_type": "code",
   "execution_count": 76,
   "metadata": {},
   "outputs": [
    {
     "name": "stdout",
     "output_type": "stream",
     "text": [
      "12時の気温は22.4\n"
     ]
    }
   ],
   "source": [
    "# 07\n",
    "def create_sentence(x,y,z):\n",
    "    return \"{0}時の{1}は{2}\".format(x,y,z)\n",
    "\n",
    "print(create_sentence(12, \"気温\", 22.4))"
   ]
  },
  {
   "cell_type": "code",
   "execution_count": 87,
   "metadata": {},
   "outputs": [
    {
     "name": "stdout",
     "output_type": "stream",
     "text": [
      "元の文字列　　　： I love ○○さん very much.\n",
      "暗号化した文字列： I olev ○○さん evib nfxs.\n",
      "復号化した文字列： I love ○○さん very much.\n"
     ]
    }
   ],
   "source": [
    "# 08\n",
    "def cipher(sentence):\n",
    "    return \"\".join([ chr(219 - ord(b)) if b.islower() else b for b in sentence ])\n",
    "\n",
    "#　ord()：アスキーコードを取得する\n",
    "#　chr()：アスキーコードから文字に変換する\n",
    "#　islower()：小文字のみ、または大文字小文字の区別のない文字列ならTrue\n",
    "\n",
    "sentence = \"I love ○○さん very much.\"\n",
    "print(\"元の文字列　　　：\", sentence)\n",
    "encryption = cipher(sentence)\n",
    "print(\"暗号化した文字列：\", encryption)\n",
    "decryption = cipher(encryption)\n",
    "print(\"復号化した文字列：\", decryption)"
   ]
  },
  {
   "cell_type": "code",
   "execution_count": 118,
   "metadata": {},
   "outputs": [
    {
     "data": {
      "text/plain": [
       "\"I cundo'lt belviee that I cuold alalucty unsrnatded what I was rdneiag : the pnaheenmol peowr of the hmuan mind .\""
      ]
     },
     "execution_count": 118,
     "metadata": {},
     "output_type": "execute_result"
    }
   ],
   "source": [
    "#09\n",
    "sentence = \"I couldn't believe that I could actually understand what I was reading : the phenomenal power of the human mind .\"\n",
    "\n",
    "def Typoglycemia(sentence):\n",
    "    import random\n",
    "    words = sentence.split(' ')\n",
    "    output = []\n",
    "    for word in words:\n",
    "        if len(word) <= 4:\n",
    "            pass\n",
    "        else:\n",
    "            move = list(word[1:len(word)-1])\n",
    "            random.shuffle(move)\n",
    "            word = word[0] + \"\".join(move) + word[len(word)-1]\n",
    "        output.append(word)\n",
    "    \n",
    "    return \" \".join(output)\n",
    "    \n",
    "#　random.shuffle()：リストの参照先を受け取ってその参照先をシャッフルする。\n",
    "#　破壊的操作なので、リストそのものをシャッフルする。関数とは挙動が違うのに注意。\n",
    "#　参照：http://hayataka2049.hatenablog.jp/entry/2016/12/17/230638\n",
    "\n",
    "Typoglycemia(sentence)"
   ]
  },
  {
   "cell_type": "code",
   "execution_count": null,
   "metadata": {
    "collapsed": true
   },
   "outputs": [],
   "source": []
  }
 ],
 "metadata": {
  "kernelspec": {
   "display_name": "Python 3",
   "language": "python",
   "name": "python3"
  },
  "language_info": {
   "codemirror_mode": {
    "name": "ipython",
    "version": 3
   },
   "file_extension": ".py",
   "mimetype": "text/x-python",
   "name": "python",
   "nbconvert_exporter": "python",
   "pygments_lexer": "ipython3",
   "version": "3.6.1"
  }
 },
 "nbformat": 4,
 "nbformat_minor": 2
}
