{
 "cells": [
  {
   "cell_type": "code",
   "execution_count": 1,
   "metadata": {
    "collapsed": true
   },
   "outputs": [],
   "source": [
    "# coding: utf-8\n",
    "\n",
    "def predict_prime(n, x):\n",
    "    for x_i in x:\n",
    "        if n % x_i is 0:\n",
    "            return x\n",
    "        else:\n",
    "            pass\n",
    "    x = x + [n]\n",
    "    return x\n",
    "\n",
    "def makelist_prime(n):\n",
    "    if n < 2: return []\n",
    "    x = []\n",
    "    for i in range(n):\n",
    "        if i < 2 :\n",
    "            pass\n",
    "        else:\n",
    "            x = predict_prime(i, x)\n",
    "    return x"
   ]
  },
  {
   "cell_type": "code",
   "execution_count": 2,
   "metadata": {
    "collapsed": true
   },
   "outputs": [],
   "source": [
    "# coding: utf-8\n",
    "import math\n",
    "\n",
    "def primes(x):\n",
    "    if x < 2: return []\n",
    "\n",
    "    primes = [i for i in range(x)]\n",
    "    primes[1] = 0 # 1は素数ではない\n",
    "\n",
    "    # エラトステネスのふるい\n",
    "    for prime in primes:\n",
    "        if prime > math.sqrt(x): break\n",
    "        if prime == 0: continue\n",
    "        for non_prime in range(2 * prime, x, prime): primes[non_prime] = 0\n",
    "\n",
    "    return [prime for prime in primes if prime != 0]"
   ]
  },
  {
   "cell_type": "code",
   "execution_count": 3,
   "metadata": {},
   "outputs": [
    {
     "name": "stdout",
     "output_type": "stream",
     "text": [
      "[2, 3, 5, 7, 11]\n"
     ]
    }
   ],
   "source": [
    "n = 11\n",
    "x = [2,3,5,7]\n",
    "\n",
    "print(predict_prime(n, x))"
   ]
  },
  {
   "cell_type": "code",
   "execution_count": 7,
   "metadata": {},
   "outputs": [
    {
     "name": "stdout",
     "output_type": "stream",
     "text": [
      "実行時間： 2.3438432216644287 秒\n"
     ]
    }
   ],
   "source": [
    "import time\n",
    "\n",
    "t1 = time.time()\n",
    "n = 100000\n",
    "makelist_prime(n)\n",
    "t2 = time.time()\n",
    "print(\"実行時間：\", t2 - t1, \"秒\")"
   ]
  },
  {
   "cell_type": "code",
   "execution_count": 6,
   "metadata": {},
   "outputs": [
    {
     "name": "stdout",
     "output_type": "stream",
     "text": [
      "実行時間： 0.015625 秒\n"
     ]
    }
   ],
   "source": [
    "t1 = time.time()\n",
    "n = 100000\n",
    "primes(n)\n",
    "t2 = time.time()\n",
    "print(\"実行時間：\", t2 - t1, \"秒\")"
   ]
  },
  {
   "cell_type": "code",
   "execution_count": null,
   "metadata": {
    "collapsed": true
   },
   "outputs": [],
   "source": []
  }
 ],
 "metadata": {
  "kernelspec": {
   "display_name": "Python 3",
   "language": "python",
   "name": "python3"
  },
  "language_info": {
   "codemirror_mode": {
    "name": "ipython",
    "version": 3
   },
   "file_extension": ".py",
   "mimetype": "text/x-python",
   "name": "python",
   "nbconvert_exporter": "python",
   "pygments_lexer": "ipython3",
   "version": "3.6.1"
  }
 },
 "nbformat": 4,
 "nbformat_minor": 2
}
