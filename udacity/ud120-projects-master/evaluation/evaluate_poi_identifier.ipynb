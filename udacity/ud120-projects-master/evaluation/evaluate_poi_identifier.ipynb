{
 "cells": [
  {
   "cell_type": "code",
   "execution_count": 12,
   "metadata": {},
   "outputs": [
    {
     "name": "stdout",
     "output_type": "stream",
     "text": [
      "\n"
     ]
    }
   ],
   "source": [
    "#!/usr/bin/python\n",
    "\n",
    "\"\"\"\n",
    "    Starter code for the evaluation mini-project.\n",
    "    Start by copying your trained/tested POI identifier from\n",
    "    that which you built in the validation mini-project.\n",
    "\n",
    "    This is the second step toward building your POI identifier!\n",
    "\n",
    "    Start by loading/formatting the data...\n",
    "\"\"\"\n",
    "\n",
    "import pickle\n",
    "import sys\n",
    "import numpy as np\n",
    "sys.path.append(\"../tools/\")\n",
    "from feature_format import featureFormat, targetFeatureSplit\n",
    "\n",
    "data_dict = pickle.load(open(\"../final_project/final_project_dataset.pkl\", \"r\") )\n",
    "\n",
    "### add more features to features_list!\n",
    "features_list = [\"poi\", \"salary\"]\n",
    "\n",
    "data = featureFormat(data_dict, features_list)\n",
    "labels, features = targetFeatureSplit(data)\n",
    "\n",
    "### your code goes here "
   ]
  },
  {
   "cell_type": "code",
   "execution_count": 13,
   "metadata": {},
   "outputs": [
    {
     "name": "stdout",
     "output_type": "stream",
     "text": [
      "Prediction:  [ 0.  0.  0.  0.  1.  0.  0.  0.  0.  0.  0.  1.  0.  0.  0.  0.  0.  0.\n",
      "  0.  1.  0.  1.  0.  0.  0.  0.  0.  0.  0.]\n",
      "Accuracy:  0.724137931034\n",
      "Number of POI's:  4\n",
      "People in Test Set:  29\n",
      "Accuracy if all zeros:  0.862068965517\n",
      "Counter({(False, False): 9, (True, True): 6, (False, True): 3, (True, False): 2})\n",
      "Precision Score:  0.75\n",
      "Recall Score:  0.666666666667\n"
     ]
    }
   ],
   "source": [
    "from sklearn import cross_validation  \n",
    "features_train, features_test, labels_train, labels_test = cross_validation.train_test_split(features, labels, test_size=0.3, random_state=42)\n",
    "\n",
    "# Fit data with sklearn decision trees algorithm\n",
    "from sklearn import tree\n",
    "clf = tree.DecisionTreeClassifier()\n",
    "clf = clf.fit(features_train, labels_train)\n",
    "\n",
    "# Get the accuracy\n",
    "from sklearn.metrics import accuracy_score\n",
    "prediction = clf.predict(features_test)\n",
    "print \"Prediction: \", prediction\n",
    "print \"Accuracy: \", accuracy_score(prediction, labels_test)\n",
    "print \"Number of POI's: \", np.count_nonzero(prediction)\n",
    "print \"People in Test Set: \", len(prediction) \n",
    "print \"Accuracy if all zeros: \", accuracy_score([0]*29, labels_test)\n",
    "\n",
    "from collections import Counter\n",
    "confusion_matrix = Counter()\n",
    "\n",
    "#truth = labels_test\n",
    "prediction = [0, 1, 1, 0, 0, 0, 1, 0, 1, 0, 0, 1, 0, 0, 1, 1, 0, 1, 0, 1] \n",
    "truth = [0, 0, 0, 0, 0, 0, 1, 0, 1, 1, 0, 1, 0, 1, 1, 1, 0, 1, 0, 0]\n",
    "positives = [1]\n",
    "\n",
    "binary_truth = [x in positives for x in truth]\n",
    "binary_prediction = [x in positives for x in prediction]\n",
    "for t, p in zip(binary_truth, binary_prediction):\n",
    "    confusion_matrix[t,p] += 1\n",
    "\n",
    "print confusion_matrix\n",
    "\n",
    "from sklearn.metrics import precision_score\n",
    "print \"Precision Score: \", precision_score(prediction, truth)\n",
    "from sklearn.metrics import recall_score\n",
    "print \"Recall Score: \", recall_score(prediction, truth)"
   ]
  },
  {
   "cell_type": "code",
   "execution_count": null,
   "metadata": {
    "collapsed": true
   },
   "outputs": [],
   "source": []
  }
 ],
 "metadata": {
  "kernelspec": {
   "display_name": "Python 2",
   "language": "python",
   "name": "python2"
  },
  "language_info": {
   "codemirror_mode": {
    "name": "ipython",
    "version": 2
   },
   "file_extension": ".py",
   "mimetype": "text/x-python",
   "name": "python",
   "nbconvert_exporter": "python",
   "pygments_lexer": "ipython2",
   "version": "2.7.13"
  }
 },
 "nbformat": 4,
 "nbformat_minor": 2
}
