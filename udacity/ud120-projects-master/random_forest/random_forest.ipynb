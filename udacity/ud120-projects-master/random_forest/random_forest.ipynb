{
 "cells": [
  {
   "cell_type": "code",
   "execution_count": 1,
   "metadata": {},
   "outputs": [
    {
     "name": "stderr",
     "output_type": "stream",
     "text": [
      "C:\\Users\\Yuichi Taguchi\\Anaconda3\\envs\\py27\\lib\\site-packages\\sklearn\\cross_validation.py:44: DeprecationWarning: This module was deprecated in version 0.18 in favor of the model_selection module into which all the refactored classes and functions are moved. Also note that the interface of the new CV iterators are different from that of this module. This module will be removed in 0.20.\n",
      "  \"This module will be removed in 0.20.\", DeprecationWarning)\n"
     ]
    }
   ],
   "source": [
    "#!/usr/bin/python\n",
    "import sys\n",
    "from time import time\n",
    "sys.path.append(\"../tools/\")\n",
    "from email_preprocess import preprocess\n",
    "from sklearn.ensemble import RandomForestClassifier\n",
    "from sklearn.metrics import accuracy_score\n"
   ]
  },
  {
   "cell_type": "code",
   "execution_count": 2,
   "metadata": {},
   "outputs": [
    {
     "name": "stdout",
     "output_type": "stream",
     "text": [
      "no. of Chris training emails: 7936\n",
      "no. of Sara training emails: 7884\n"
     ]
    }
   ],
   "source": [
    "### features_train and features_test are the features for the training\n",
    "### and testing datasets, respectively\n",
    "### labels_train and labels_test are the corresponding item labels\n",
    "features_train, features_test, labels_train, labels_test = preprocess()"
   ]
  },
  {
   "cell_type": "code",
   "execution_count": 3,
   "metadata": {},
   "outputs": [
    {
     "name": "stdout",
     "output_type": "stream",
     "text": [
      "Amount of features_train:  3785\n",
      "Type:  2\n",
      "  Avarage:  0.676763367463\n",
      "Type:  4\n",
      "  Avarage:  0.677901023891\n",
      "Type:  8\n",
      "  Avarage:  0.677332195677\n",
      "Type:  16\n",
      "  Avarage:  0.651166097838\n",
      "Type:  32\n",
      "  Avarage:  0.492036405006\n"
     ]
    }
   ],
   "source": [
    "#データ数1/100でRandomForestClassifierのパラメータを検証\n",
    "\n",
    "num = len(features_train[0])\n",
    "print \"Amount of features_train: \", num\n",
    "\n",
    "features_train_100 = features_train[:num/100]\n",
    "labels_train_100 = labels_train[:num/100]\n",
    "\n",
    "M_values = [2, 4, 8, 16, 32]\n",
    "\n",
    "#やり方１：min_samples_splitの値を変えつつ、accuracyを各20回とって平均値を算出する\n",
    "for M_value in M_values:\n",
    "    print \"Type: \", M_value\n",
    "    pred_sum = []\n",
    "    for i in range(20):\n",
    "        clf = RandomForestClassifier(min_samples_split=M_value)\n",
    "        clf.fit(features_train_100, labels_train_100)\n",
    "        pred = clf.predict(features_test)\n",
    "        acc = accuracy_score(labels_test, pred)\n",
    "        pred_sum.append(acc)\n",
    "    print \"  Avarage: \", sum(pred_sum)/len(pred_sum)\n",
    "\n",
    "#試行の結果、min_samples_splitは誤差だから2でいいと判断"
   ]
  },
  {
   "cell_type": "code",
   "execution_count": 20,
   "metadata": {},
   "outputs": [
    {
     "name": "stdout",
     "output_type": "stream",
     "text": [
      "[ 0.65585893  0.68657565  0.64163823  0.6814562   0.64220705  0.67292378\n",
      "  0.62457338  0.68259386  0.67178612  0.66723549  0.72411832  0.67349261\n",
      "  0.64277588  0.67974972  0.67633675  0.63822526  0.66951081  0.6513083\n",
      "  0.68031854  0.6513083   0.56825939  0.60921502  0.49203641  0.52161547\n",
      "  0.49203641  0.49203641  0.49203641  0.49203641  0.49203641  0.49203641\n",
      "  0.49203641  0.49203641  0.49203641  0.49203641  0.49203641  0.49203641\n",
      "  0.49203641  0.49203641  0.49203641  0.49203641  0.49203641  0.49203641\n",
      "  0.49203641  0.49203641  0.49203641  0.49203641  0.49203641  0.49203641]\n"
     ]
    },
    {
     "data": {
      "image/png": "[encoded data removed]",
      "text/plain": [
       "<matplotlib.figure.Figure at 0x9cf9f98>"
      ]
     },
     "metadata": {},
     "output_type": "display_data"
    }
   ],
   "source": [
    "#やり方２：2から50まで1回ずつ回してグラフ化して傾向を見る\n",
    "%matplotlib inline\n",
    "import numpy as np\n",
    "import matplotlib.pyplot as plt\n",
    "\n",
    "accuracy = []\n",
    "i_range = []\n",
    "for i in range(2, 50):\n",
    "    clf_r = RandomForestClassifier(min_samples_split=i)\n",
    "    clf_r.fit(features_train_100, labels_train_100)\n",
    "    pred = clf_r.predict(features_test)\n",
    "    accuracy.append(accuracy_score(labels_test, pred))\n",
    "    i_range.append(i)\n",
    "\n",
    "x = np.array(i_range)\n",
    "y = np.array(accuracy)\n",
    "plt.plot(x, y)\n",
    "print y\n",
    "#試行の結果、min_samples_splitは12あたりが良さそう（回すたびに結果は結構変わります）"
   ]
  },
  {
   "cell_type": "code",
   "execution_count": 21,
   "metadata": {},
   "outputs": [
    {
     "data": {
      "text/plain": [
       "0.99260523321956773"
      ]
     },
     "execution_count": 21,
     "metadata": {},
     "output_type": "execute_result"
    }
   ],
   "source": [
    "#２の検証に基づいて、min_samples_splitのパラメータを12で実行\n",
    "clf = RandomForestClassifier(min_samples_split=12)\n",
    "clf.fit(features_train, labels_train)\n",
    "pred = clf.predict(features_test)\n",
    "accuracy_score(labels_test, pred)"
   ]
  },
  {
   "cell_type": "code",
   "execution_count": null,
   "metadata": {
    "collapsed": true
   },
   "outputs": [],
   "source": []
  }
 ],
 "metadata": {
  "kernelspec": {
   "display_name": "Python 2",
   "language": "python",
   "name": "python2"
  },
  "language_info": {
   "codemirror_mode": {
    "name": "ipython",
    "version": 2
   },
   "file_extension": ".py",
   "mimetype": "text/x-python",
   "name": "python",
   "nbconvert_exporter": "python",
   "pygments_lexer": "ipython2",
   "version": "2.7.13"
  }
 },
 "nbformat": 4,
 "nbformat_minor": 2
}
