{
 "cells": [
  {
   "cell_type": "code",
   "execution_count": null,
   "metadata": {
    "collapsed": true
   },
   "outputs": [],
   "source": [
    "# 2018/2/24 AtCoder Grand Contest 021\n",
    "# 参戦1回目\n",
    "\n",
    "# テスト用乱数生成\n",
    "import random\n",
    "\n",
    "num = str(random.randint(1,10**16))"
   ]
  },
  {
   "cell_type": "code",
   "execution_count": null,
   "metadata": {
    "collapsed": true
   },
   "outputs": [],
   "source": [
    "# A問題 300(2) 53:12 + ペナルティ5*2 [AC]\n",
    "\n",
    "n = input()\n",
    "ls = list(map(int,[ _ for _ in n ]))\n",
    "if int(n) <= 9:\n",
    "    print(int(n))\n",
    "elif sum(ls[1:]) / (len(ls)-1) == 9:\n",
    "    print(sum(ls))\n",
    "else:\n",
    "    print(ls[0]-1 + 9*(len(ls)-1))"
   ]
  },
  {
   "cell_type": "code",
   "execution_count": null,
   "metadata": {
    "collapsed": true
   },
   "outputs": [],
   "source": [
    "# A問題の模範解答\n",
    "\n",
    "ns = list(map(int, list(input())))\n",
    "print(max(sum(ns), ns[0]-1 + 9*(len(ns)-1)))"
   ]
  }
 ],
 "metadata": {
  "kernelspec": {
   "display_name": "Python 3",
   "language": "python",
   "name": "python3"
  },
  "language_info": {
   "codemirror_mode": {
    "name": "ipython",
    "version": 3
   },
   "file_extension": ".py",
   "mimetype": "text/x-python",
   "name": "python",
   "nbconvert_exporter": "python",
   "pygments_lexer": "ipython3",
   "version": "3.6.1"
  }
 },
 "nbformat": 4,
 "nbformat_minor": 2
}
