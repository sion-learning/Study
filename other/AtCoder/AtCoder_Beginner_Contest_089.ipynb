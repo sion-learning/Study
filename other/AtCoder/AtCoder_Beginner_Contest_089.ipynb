{
 "cells": [
  {
   "cell_type": "code",
   "execution_count": null,
   "metadata": {
    "collapsed": true
   },
   "outputs": [],
   "source": [
    "#AtCoder Beginner Contest 089\n",
    "#2018/3/4 21:00-"
   ]
  },
  {
   "cell_type": "code",
   "execution_count": null,
   "metadata": {
    "collapsed": true
   },
   "outputs": [],
   "source": [
    "#A問題\n",
    "\n",
    "print(int(int(input()) / 3))"
   ]
  },
  {
   "cell_type": "code",
   "execution_count": null,
   "metadata": {
    "collapsed": true
   },
   "outputs": [],
   "source": [
    "#B問題\n",
    "\n",
    "import collections\n",
    "n = input()\n",
    "ans = len(collections.Counter(input().replace(\" \",\"\")))\n",
    "if ans == 4: print(\"Four\")\n",
    "else: print(\"Three\")\n",
    "    \n",
    "#＊＊模範解答＊＊\n",
    "N = int(input())\n",
    "S = input().split()\n",
    "if \"Y\" in S:\n",
    "    print(\"Four\")\n",
    "else:\n",
    "    print(\"Three\")"
   ]
  },
  {
   "cell_type": "code",
   "execution_count": null,
   "metadata": {
    "collapsed": true
   },
   "outputs": [],
   "source": [
    "#C問題\n",
    "\n",
    "n = int(input())\n",
    "s = [ str(input()) for _ in range(n) ]\n",
    "\n",
    "m = [[] for _ in range(5)]\n",
    "for i in range(n):\n",
    "    if s[i][:1] == \"M\":\n",
    "        m[0].append(s[i])\n",
    "    elif s[i][:1] == \"A\":\n",
    "        m[1].append(s[i])\n",
    "    elif s[i][:1] == \"R\":\n",
    "        m[2].append(s[i])\n",
    "    elif s[i][:1] == \"C\":\n",
    "        m[3].append(s[i])\n",
    "    elif s[i][:1] == \"H\":\n",
    "        m[4].append(s[i])\n",
    "    else:\n",
    "        pass\n",
    "    \n",
    "#ここのMARCH振り分けはもっと綺麗にしたい\n",
    "    \n",
    "for i in range(5):\n",
    "    m[i] = len(list(set(m[i])))\n",
    "\n",
    "print(m[0] * m[1] * m[2] + m[0] * m[1] * m[3] + m[0] * m[1] * m[4] + m[0] * m[2] * m[3] + m[0] * m[2] * m[4] + m[0] * m[3] * m[4] + m[1] * m[2] * m[3] + m[1] * m[2] * m[4] + m[1] * m[3] * m[4] + m[2] * m[3] * m[4])\n",
    "\n",
    "#総当たりで乗算するメソッドなかったかな。これはさすがに酷い\n",
    "#itertools.combinationsがそれっぽい\n",
    "\n",
    "#＊＊模範解答＊＊\n",
    "import itertools\n",
    "n = int(input())\n",
    "dic = {\"M\":0, \"A\":0, \"R\":0, \"C\":0, \"H\": 0}\n",
    "R = [\"M\", \"A\", \"R\", \"C\", \"H\"]\n",
    "for i in range(n):\n",
    "    s = input()\n",
    "    if s[0] in R:\n",
    "        dic[s[0]] += 1\n",
    "\n",
    "num = 0\n",
    "for i, j, k in itertools.combinations(R, 3):\n",
    "    num += dic[i]* dic[j] * dic[k]\n",
    "\n",
    "print(num)"
   ]
  },
  {
   "cell_type": "code",
   "execution_count": 1,
   "metadata": {},
   "outputs": [
    {
     "name": "stdout",
     "output_type": "stream",
     "text": [
      "3 3 2\n"
     ]
    }
   ],
   "source": [
    "#D問題\n",
    "\n",
    "h,w,d = map(int, input().split(\" \"))\n",
    "\n",
    "mat = [[] for _ in range(int(h))]\n",
    "for i in range(h):\n",
    "    mat[i] = list(map(int, input()))\n",
    "\n",
    "q = int(input())\n",
    "\n",
    "act = [[] for _ in range(q)]\n",
    "for i in range(q):\n",
    "    act[i] = list(map(int, input()))\n",
    "\n",
    "for i in range(q):\n",
    "    act[i][0]\n",
    "    \n",
    "#ここでタイムアップ"
   ]
  },
  {
   "cell_type": "code",
   "execution_count": null,
   "metadata": {
    "collapsed": true
   },
   "outputs": [],
   "source": []
  }
 ],
 "metadata": {
  "kernelspec": {
   "display_name": "Python 3",
   "language": "python",
   "name": "python3"
  },
  "language_info": {
   "codemirror_mode": {
    "name": "ipython",
    "version": 3
   },
   "file_extension": ".py",
   "mimetype": "text/x-python",
   "name": "python",
   "nbconvert_exporter": "python",
   "pygments_lexer": "ipython3",
   "version": "3.6.1"
  }
 },
 "nbformat": 4,
 "nbformat_minor": 2
}
