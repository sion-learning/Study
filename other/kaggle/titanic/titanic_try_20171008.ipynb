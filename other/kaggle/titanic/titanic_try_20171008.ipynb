{
 "cells": [
  {
   "cell_type": "code",
   "execution_count": 232,
   "metadata": {
    "collapsed": true
   },
   "outputs": [],
   "source": [
    "#coding: utf-8\n",
    "import numpy as np\n",
    "import pandas as pd\n",
    "pd.set_option(\"display.max_rows\", 900)\n",
    "\n",
    "train_data = pd.read_csv(\"./train.csv\")\n",
    "train_lavel = pd.read_csv(\"./train.csv\")\n",
    "test_data = pd.read_csv(\"./test.csv\")\n",
    "test_lavel = pd.read_csv(\"./gender_submission.csv\")"
   ]
  },
  {
   "cell_type": "code",
   "execution_count": 233,
   "metadata": {},
   "outputs": [],
   "source": [
    "train_data = train_data.drop(([\"PassengerId\",\"Survived\",\"Name\",\"Ticket\",\"Cabin\"]), axis=1)\n",
    "Sex_Dummy = pd.get_dummies(train_data[\"Sex\"])\n",
    "train_data = pd.concat((train_data, Sex_Dummy), axis=1)\n",
    "train_data = train_data.drop(([\"Sex\", \"female\"]), axis=1)\n",
    "train_data[\"Embarked\"] = train_data[\"Embarked\"].fillna(\"N\")\n",
    "train_data[\"Embarked_No\"] = train_data[\"Embarked\"].map({\"N\": 0, \"S\": 1, \"C\": 2, \"Q\": 3}).astype(int)\n",
    "train_data = train_data.drop(([\"Embarked\"]), axis=1)\n",
    "Age_ave_train = int(train_data[\"Age\"].mean())\n",
    "train_data[\"Age\"] = train_data[\"Age\"].fillna(Age_ave_train)\n",
    "train_data[\"Fare\"] = train_data[\"Fare\"].fillna(0)\n",
    "#print(train_data)"
   ]
  },
  {
   "cell_type": "code",
   "execution_count": 234,
   "metadata": {},
   "outputs": [],
   "source": [
    "train_lavel = train_lavel.drop(([\"PassengerId\",\"Pclass\",\"Name\",\"Sex\",\"Age\",\"SibSp\",\"Parch\",\"Ticket\",\"Fare\",\"Cabin\",\"Embarked\"]), axis=1)\n",
    "train_lavel = np.ravel(train_lavel)\n",
    "#print(train_lavel)"
   ]
  },
  {
   "cell_type": "code",
   "execution_count": 235,
   "metadata": {},
   "outputs": [],
   "source": [
    "ids = test_data[\"PassengerId\"].values\n",
    "test_data = test_data.drop(([\"PassengerId\",\"Name\",\"Ticket\",\"Cabin\"]), axis=1)\n",
    "Sex_Dummy = pd.get_dummies(test_data[\"Sex\"])\n",
    "test_data = pd.concat((test_data, Sex_Dummy), axis=1)\n",
    "test_data = test_data.drop(([\"Sex\", \"female\"]), axis=1)\n",
    "test_data[\"Embarked\"] = test_data[\"Embarked\"].fillna(\"N\")\n",
    "test_data[\"Embarked_No\"] = test_data[\"Embarked\"].map({\"N\": 0, \"S\": 1, \"C\": 2, \"Q\": 3}).astype(int)\n",
    "test_data = test_data.drop(([\"Embarked\"]), axis=1)\n",
    "Age_ave_test = int(test_data[\"Age\"].mean())\n",
    "test_data[\"Age\"] = test_data[\"Age\"].fillna(Age_ave_test)\n",
    "test_data[\"Fare\"] = test_data[\"Fare\"].fillna(0)\n",
    "#print(test_data)"
   ]
  },
  {
   "cell_type": "code",
   "execution_count": 236,
   "metadata": {
    "collapsed": true
   },
   "outputs": [],
   "source": [
    "test_lavel = test_lavel.drop(([\"PassengerId\"]), axis=1)\n",
    "test_lavel = np.ravel(test_lavel)\n",
    "#print(test_lavel)"
   ]
  },
  {
   "cell_type": "code",
   "execution_count": 266,
   "metadata": {},
   "outputs": [
    {
     "data": {
      "text/plain": [
       "0.98086124401913877"
      ]
     },
     "execution_count": 266,
     "metadata": {},
     "output_type": "execute_result"
    }
   ],
   "source": [
    "%matplotlib inline\n",
    "from sklearn import ensemble\n",
    "from sklearn.metrics import accuracy_score\n",
    "import matplotlib.pyplot as plt\n",
    "\n",
    "clf = ensemble.RandomForestClassifier(min_samples_split=150)\n",
    "clf.fit(train_data, train_lavel)\n",
    "pred = clf.predict(test_data)\n",
    "accuracy_score(np.ravel(test_lavel), pred)"
   ]
  },
  {
   "cell_type": "code",
   "execution_count": 267,
   "metadata": {
    "collapsed": true
   },
   "outputs": [],
   "source": [
    "import csv\n",
    "submit_file = open(\"./titanic_submit_RandomForestClassifier.csv\", \"w\")\n",
    "file_object = csv.writer(submit_file)\n",
    "file_object.writerow([\"PassengerId\", \"Survived\"])\n",
    "file_object.writerows(zip(ids, pred))\n",
    "submit_file.close()"
   ]
  },
  {
   "cell_type": "code",
   "execution_count": null,
   "metadata": {
    "collapsed": true
   },
   "outputs": [],
   "source": [
    "accuracy = []\n",
    "i_range = []\n",
    "for i in range(50, 200):\n",
    "    clf = ensemble.RandomForestClassifier(min_samples_split=i)\n",
    "    clf.fit(train_data, train_lavel)\n",
    "    pred = clf.predict(test_data)\n",
    "    acc = accuracy_score(np.ravel(test_lavel), pred)\n",
    "    accuracy.append(acc)\n",
    "    i_range.append(i)\n",
    "\n",
    "print(accuracy)\n",
    "x = i_range\n",
    "y = accuracy\n",
    "plt.plot(x, y)"
   ]
  }
 ],
 "metadata": {
  "kernelspec": {
   "display_name": "Python 3",
   "language": "python",
   "name": "python3"
  },
  "language_info": {
   "codemirror_mode": {
    "name": "ipython",
    "version": 3
   },
   "file_extension": ".py",
   "mimetype": "text/x-python",
   "name": "python",
   "nbconvert_exporter": "python",
   "pygments_lexer": "ipython3",
   "version": "3.6.1"
  }
 },
 "nbformat": 4,
 "nbformat_minor": 2
}
